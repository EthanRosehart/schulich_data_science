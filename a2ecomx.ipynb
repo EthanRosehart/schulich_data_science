{
 "cells": [
  {
   "cell_type": "code",
   "execution_count": 5,
   "metadata": {},
   "outputs": [],
   "source": [
    "# Import Libraries to get started\n",
    "\n",
    "from pathlib import Path\n",
    "\n",
    "import pandas as pd\n",
    "from sklearn.model_selection import train_test_split\n",
    "from sklearn.linear_model import LinearRegression, Lasso, Ridge, LassoCV, BayesianRidge\n",
    "import statsmodels.formula.api as sm\n",
    "import matplotlib.pylab as plt\n",
    "\n",
    "import dmba\n",
    "from dmba import regressionSummary, exhaustive_search\n",
    "from dmba import backward_elimination, forward_selection, stepwise_selection\n",
    "from dmba import adjusted_r2_score, AIC_score, BIC_score\n",
    "\n",
    "%matplotlib inline"
   ]
  },
  {
   "cell_type": "code",
   "execution_count": 6,
   "metadata": {},
   "outputs": [],
   "source": [
    "# Import each dataset seperately, assign to dataframes\n",
    "\n",
    "df_customers = pd.read_csv('https://raw.githubusercontent.com/delinai/schulich_ds1_2024/main/Datasets/customers_final.csv')\n",
    "df_engagement = pd.read_csv('https://raw.githubusercontent.com/delinai/schulich_ds1_2024/main/Datasets/engagements_final.csv')\n",
    "df_marketing = pd.read_csv('https://raw.githubusercontent.com/delinai/schulich_ds1_2024/main/Datasets/marketing_final.csv')\n",
    "df_transactions = pd.read_csv('https://raw.githubusercontent.com/delinai/schulich_ds1_2024/main/Datasets/transactions_final.csv')"
   ]
  },
  {
   "cell_type": "code",
   "execution_count": 32,
   "metadata": {},
   "outputs": [
    {
     "name": "stdout",
     "output_type": "stream",
     "text": [
      "<class 'pandas.core.frame.DataFrame'>\n",
      "RangeIndex: 129545 entries, 0 to 129544\n",
      "Data columns (total 5 columns):\n",
      " #   Column              Non-Null Count   Dtype  \n",
      "---  ------              --------------   -----  \n",
      " 0   transaction_id      129545 non-null  int64  \n",
      " 1   customer_id         129545 non-null  int64  \n",
      " 2   transaction_date    129545 non-null  object \n",
      " 3   transaction_amount  129545 non-null  float64\n",
      " 4   product_category    129545 non-null  object \n",
      "dtypes: float64(1), int64(2), object(2)\n",
      "memory usage: 4.9+ MB\n"
     ]
    }
   ],
   "source": [
    "df_transactions.info()"
   ]
  },
  {
   "cell_type": "code",
   "execution_count": 13,
   "metadata": {},
   "outputs": [],
   "source": [
    "# Create main df by merging all datasets\n",
    "\n",
    "df = pd.merge(df_customers,df_engagement, on='customer_id', how='outer')"
   ]
  },
  {
   "cell_type": "code",
   "execution_count": 15,
   "metadata": {},
   "outputs": [],
   "source": [
    "df = pd.merge(df,df_marketing,on='customer_id', how='outer')"
   ]
  },
  {
   "cell_type": "code",
   "execution_count": 17,
   "metadata": {},
   "outputs": [],
   "source": [
    "df = pd.merge(df,df_transactions,on='customer_id', how='outer')"
   ]
  },
  {
   "cell_type": "code",
   "execution_count": null,
   "metadata": {},
   "outputs": [],
   "source": [
    "# 'customer_id'\n",
    "# 'join_date'\n",
    "# 'last_purchase_date'\n",
    "# 'age'\n",
    "# 'gender'\n",
    "# 'location'\n",
    "# 'number_of_site_visits'\n",
    "# 'number_of_emails_opened'\n",
    "# 'number_of_clicks'\n",
    "# 'campaign_id'\n",
    "# 'response'\n",
    "# 'promotion_type'\n",
    "# 'campaign_date'\n",
    "# 'transaction_id'\n",
    "# 'transaction_date'\n",
    "# 'transaction_amount'\n",
    "# 'product_category'"
   ]
  },
  {
   "cell_type": "code",
   "execution_count": 20,
   "metadata": {},
   "outputs": [
    {
     "data": {
      "text/plain": [
       "Index(['customer_id', 'join_date', 'last_purchase_date', 'age', 'gender',\n",
       "       'location', 'number_of_site_visits', 'number_of_emails_opened',\n",
       "       'number_of_clicks', 'campaign_id', 'response', 'promotion_type',\n",
       "       'campaign_date', 'transaction_id', 'transaction_date',\n",
       "       'transaction_amount', 'product_category'],\n",
       "      dtype='object')"
      ]
     },
     "execution_count": 20,
     "metadata": {},
     "output_type": "execute_result"
    }
   ],
   "source": [
    "df.columns"
   ]
  },
  {
   "cell_type": "code",
   "execution_count": 21,
   "metadata": {},
   "outputs": [
    {
     "name": "stdout",
     "output_type": "stream",
     "text": [
      "<class 'pandas.core.frame.DataFrame'>\n",
      "RangeIndex: 327251 entries, 0 to 327250\n",
      "Data columns (total 17 columns):\n",
      " #   Column                   Non-Null Count   Dtype  \n",
      "---  ------                   --------------   -----  \n",
      " 0   customer_id              327251 non-null  int64  \n",
      " 1   join_date                327251 non-null  object \n",
      " 2   last_purchase_date       327251 non-null  object \n",
      " 3   age                      293971 non-null  float64\n",
      " 4   gender                   309405 non-null  object \n",
      " 5   location                 327251 non-null  object \n",
      " 6   number_of_site_visits    327251 non-null  int64  \n",
      " 7   number_of_emails_opened  327251 non-null  int64  \n",
      " 8   number_of_clicks         327251 non-null  int64  \n",
      " 9   campaign_id              327251 non-null  int64  \n",
      " 10  response                 327251 non-null  object \n",
      " 11  promotion_type           327251 non-null  object \n",
      " 12  campaign_date            327251 non-null  object \n",
      " 13  transaction_id           327251 non-null  int64  \n",
      " 14  transaction_date         327251 non-null  object \n",
      " 15  transaction_amount       327251 non-null  float64\n",
      " 16  product_category         327251 non-null  object \n",
      "dtypes: float64(2), int64(6), object(9)\n",
      "memory usage: 42.4+ MB\n"
     ]
    }
   ],
   "source": [
    "df.info()"
   ]
  },
  {
   "cell_type": "code",
   "execution_count": 26,
   "metadata": {},
   "outputs": [],
   "source": [
    "# Clean Dates\n",
    "\n",
    "df['join_date'] = pd.to_datetime(df['join_date'])\n",
    "df['last_purchase_date'] = pd.to_datetime(df['last_purchase_date'])\n",
    "df['campaign_date'] = pd.to_datetime(df['campaign_date'])\n",
    "df['transaction_date'] = pd.to_datetime(df['transaction_date'])\n"
   ]
  },
  {
   "cell_type": "code",
   "execution_count": 27,
   "metadata": {},
   "outputs": [
    {
     "name": "stdout",
     "output_type": "stream",
     "text": [
      "<class 'pandas.core.frame.DataFrame'>\n",
      "RangeIndex: 327251 entries, 0 to 327250\n",
      "Data columns (total 17 columns):\n",
      " #   Column                   Non-Null Count   Dtype         \n",
      "---  ------                   --------------   -----         \n",
      " 0   customer_id              327251 non-null  int64         \n",
      " 1   join_date                327251 non-null  datetime64[ns]\n",
      " 2   last_purchase_date       327251 non-null  datetime64[ns]\n",
      " 3   age                      293971 non-null  float64       \n",
      " 4   gender                   309405 non-null  object        \n",
      " 5   location                 327251 non-null  object        \n",
      " 6   number_of_site_visits    327251 non-null  int64         \n",
      " 7   number_of_emails_opened  327251 non-null  int64         \n",
      " 8   number_of_clicks         327251 non-null  int64         \n",
      " 9   campaign_id              327251 non-null  int64         \n",
      " 10  response                 327251 non-null  object        \n",
      " 11  promotion_type           327251 non-null  object        \n",
      " 12  campaign_date            327251 non-null  datetime64[ns]\n",
      " 13  transaction_id           327251 non-null  int64         \n",
      " 14  transaction_date         327251 non-null  datetime64[ns]\n",
      " 15  transaction_amount       327251 non-null  float64       \n",
      " 16  product_category         327251 non-null  object        \n",
      "dtypes: datetime64[ns](4), float64(2), int64(6), object(5)\n",
      "memory usage: 42.4+ MB\n"
     ]
    }
   ],
   "source": [
    "df.info()"
   ]
  },
  {
   "cell_type": "code",
   "execution_count": 36,
   "metadata": {},
   "outputs": [
    {
     "data": {
      "text/html": [
       "<div>\n",
       "<style scoped>\n",
       "    .dataframe tbody tr th:only-of-type {\n",
       "        vertical-align: middle;\n",
       "    }\n",
       "\n",
       "    .dataframe tbody tr th {\n",
       "        vertical-align: top;\n",
       "    }\n",
       "\n",
       "    .dataframe thead th {\n",
       "        text-align: right;\n",
       "    }\n",
       "</style>\n",
       "<table border=\"1\" class=\"dataframe\">\n",
       "  <thead>\n",
       "    <tr style=\"text-align: right;\">\n",
       "      <th></th>\n",
       "      <th>transaction_date</th>\n",
       "      <th>transaction_amount</th>\n",
       "    </tr>\n",
       "  </thead>\n",
       "  <tbody>\n",
       "    <tr>\n",
       "      <th>0</th>\n",
       "      <td>2020</td>\n",
       "      <td>16114326.69</td>\n",
       "    </tr>\n",
       "    <tr>\n",
       "      <th>1</th>\n",
       "      <td>2021</td>\n",
       "      <td>35686959.68</td>\n",
       "    </tr>\n",
       "    <tr>\n",
       "      <th>2</th>\n",
       "      <td>2022</td>\n",
       "      <td>50564441.20</td>\n",
       "    </tr>\n",
       "    <tr>\n",
       "      <th>3</th>\n",
       "      <td>2023</td>\n",
       "      <td>62847073.46</td>\n",
       "    </tr>\n",
       "    <tr>\n",
       "      <th>4</th>\n",
       "      <td>2024</td>\n",
       "      <td>30017930.20</td>\n",
       "    </tr>\n",
       "  </tbody>\n",
       "</table>\n",
       "</div>"
      ],
      "text/plain": [
       "   transaction_date  transaction_amount\n",
       "0              2020         16114326.69\n",
       "1              2021         35686959.68\n",
       "2              2022         50564441.20\n",
       "3              2023         62847073.46\n",
       "4              2024         30017930.20"
      ]
     },
     "execution_count": 36,
     "metadata": {},
     "output_type": "execute_result"
    }
   ],
   "source": [
    "# Revenue by Year\n",
    "\n",
    "revenue_yearly = df.groupby(df['transaction_date'].dt.year)['transaction_amount'].sum().reset_index()\n",
    "\n",
    "revenue_yearly"
   ]
  }
 ],
 "metadata": {
  "kernelspec": {
   "display_name": "Python 3",
   "language": "python",
   "name": "python3"
  },
  "language_info": {
   "codemirror_mode": {
    "name": "ipython",
    "version": 3
   },
   "file_extension": ".py",
   "mimetype": "text/x-python",
   "name": "python",
   "nbconvert_exporter": "python",
   "pygments_lexer": "ipython3",
   "version": "3.11.9"
  }
 },
 "nbformat": 4,
 "nbformat_minor": 2
}
