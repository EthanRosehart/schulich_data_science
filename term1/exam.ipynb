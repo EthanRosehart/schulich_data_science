{
 "cells": [
  {
   "cell_type": "code",
   "execution_count": 2,
   "metadata": {},
   "outputs": [],
   "source": [
    "# Import all the libraries\n",
    "\n",
    "from pathlib import Path\n",
    "\n",
    "import pandas as pd\n",
    "import numpy as np\n",
    "import matplotlib.pyplot as plt\n",
    "import seaborn as sns\n",
    "import statsmodels.api as sm\n",
    "import matplotlib.pylab as plt\n",
    "\n",
    "import dmba\n",
    "from dmba import regressionSummary, exhaustive_search\n",
    "from dmba import backward_elimination, forward_selection, stepwise_selection\n",
    "from dmba import adjusted_r2_score, AIC_score, BIC_score\n",
    "\n",
    "from sklearn.linear_model import LinearRegression, Lasso, Ridge, LassoCV, BayesianRidge\n",
    "from sklearn.linear_model import LogisticRegression\n",
    "from sklearn.neighbors import KNeighborsClassifier, KNeighborsRegressor\n",
    "from sklearn.naive_bayes import GaussianNB\n",
    "from sklearn.model_selection import StratifiedKFold,train_test_split, cross_val_score, GridSearchCV, KFold #GridSearch is for hyperparameter tuning\n",
    "from sklearn.preprocessing import StandardScaler,OneHotEncoder, MinMaxScaler, LabelEncoder, FunctionTransformer, label_binarize\n",
    "from sklearn.impute import SimpleImputer\n",
    "from sklearn.pipeline import Pipeline,make_pipeline\n",
    "from sklearn.compose import ColumnTransformer\n",
    "from sklearn.metrics import mean_absolute_error, mean_squared_error, r2_score, f1_score, accuracy_score, precision_score, recall_score, PrecisionRecallDisplay, RocCurveDisplay, make_scorer, mean_squared_error,classification_report,confusion_matrix,ConfusionMatrixDisplay, roc_curve, auc,roc_auc_score\n",
    "from sklearn.cluster import KMeans\n",
    "from sklearn.tree import DecisionTreeClassifier\n",
    "from sklearn.ensemble import RandomForestClassifier, GradientBoostingClassifier\n",
    "from sklearn.svm import SVC\n",
    "\n",
    "from imblearn.over_sampling import SMOTE\n",
    "from imblearn.pipeline import Pipeline as ImbPipeline\n",
    "\n",
    "from xgboost import XGBClassifier\n"
   ]
  },
  {
   "cell_type": "code",
   "execution_count": 3,
   "metadata": {},
   "outputs": [],
   "source": [
    "# Load in the Dataset to a df\n",
    "df = pd.read_csv('https://raw.githubusercontent.com/delinai/schulich_ds1/main/Datasets/Fraud_Detection_Dataset.csv')"
   ]
  },
  {
   "cell_type": "code",
   "execution_count": 45,
   "metadata": {},
   "outputs": [],
   "source": [
    "# Set display options to show all rows and columns\n",
    "pd.set_option('display.max_rows', None)\n",
    "pd.set_option('display.max_columns', None)"
   ]
  },
  {
   "cell_type": "code",
   "execution_count": 4,
   "metadata": {},
   "outputs": [
    {
     "name": "stdout",
     "output_type": "stream",
     "text": [
      "<class 'pandas.core.frame.DataFrame'>\n",
      "RangeIndex: 10000 entries, 0 to 9999\n",
      "Data columns (total 10 columns):\n",
      " #   Column                       Non-Null Count  Dtype  \n",
      "---  ------                       --------------  -----  \n",
      " 0   Transaction ID               10000 non-null  int64  \n",
      " 1   Customer ID                  10000 non-null  int64  \n",
      " 2   Transaction Amount           10000 non-null  float64\n",
      " 3   Transaction Date and Time    10000 non-null  object \n",
      " 4   Merchant Category            10000 non-null  object \n",
      " 5   Location                     10000 non-null  object \n",
      " 6   Previous Transaction Amount  10000 non-null  float64\n",
      " 7   Time Since Last Transaction  10000 non-null  float64\n",
      " 8   Device Type                  10000 non-null  object \n",
      " 9   Fraud                        10000 non-null  object \n",
      "dtypes: float64(3), int64(2), object(5)\n",
      "memory usage: 781.4+ KB\n"
     ]
    }
   ],
   "source": [
    "# Check Datatypes\n",
    "df.info()"
   ]
  },
  {
   "cell_type": "code",
   "execution_count": 5,
   "metadata": {},
   "outputs": [],
   "source": [
    "# Correct Datatype to datetime\n",
    "\n",
    "df['Transaction Date and Time'] = pd.to_datetime(df['Transaction Date and Time'])"
   ]
  },
  {
   "cell_type": "code",
   "execution_count": 6,
   "metadata": {},
   "outputs": [
    {
     "name": "stdout",
     "output_type": "stream",
     "text": [
      "<class 'pandas.core.frame.DataFrame'>\n",
      "RangeIndex: 10000 entries, 0 to 9999\n",
      "Data columns (total 10 columns):\n",
      " #   Column                       Non-Null Count  Dtype         \n",
      "---  ------                       --------------  -----         \n",
      " 0   Transaction ID               10000 non-null  int64         \n",
      " 1   Customer ID                  10000 non-null  int64         \n",
      " 2   Transaction Amount           10000 non-null  float64       \n",
      " 3   Transaction Date and Time    10000 non-null  datetime64[ns]\n",
      " 4   Merchant Category            10000 non-null  object        \n",
      " 5   Location                     10000 non-null  object        \n",
      " 6   Previous Transaction Amount  10000 non-null  float64       \n",
      " 7   Time Since Last Transaction  10000 non-null  float64       \n",
      " 8   Device Type                  10000 non-null  object        \n",
      " 9   Fraud                        10000 non-null  object        \n",
      "dtypes: datetime64[ns](1), float64(3), int64(2), object(4)\n",
      "memory usage: 781.4+ KB\n"
     ]
    }
   ],
   "source": [
    "# Verify Datatype\n",
    "\n",
    "df.info()"
   ]
  },
  {
   "cell_type": "code",
   "execution_count": 7,
   "metadata": {},
   "outputs": [
    {
     "data": {
      "text/plain": [
       "Fraud\n",
       "No     8608\n",
       "Yes    1392\n",
       "Name: count, dtype: int64"
      ]
     },
     "execution_count": 7,
     "metadata": {},
     "output_type": "execute_result"
    }
   ],
   "source": [
    "# Check Class Balance - welp this is bad\n",
    "\n",
    "df['Fraud'].value_counts()"
   ]
  },
  {
   "cell_type": "code",
   "execution_count": 8,
   "metadata": {},
   "outputs": [
    {
     "data": {
      "text/html": [
       "<div>\n",
       "<style scoped>\n",
       "    .dataframe tbody tr th:only-of-type {\n",
       "        vertical-align: middle;\n",
       "    }\n",
       "\n",
       "    .dataframe tbody tr th {\n",
       "        vertical-align: top;\n",
       "    }\n",
       "\n",
       "    .dataframe thead th {\n",
       "        text-align: right;\n",
       "    }\n",
       "</style>\n",
       "<table border=\"1\" class=\"dataframe\">\n",
       "  <thead>\n",
       "    <tr style=\"text-align: right;\">\n",
       "      <th></th>\n",
       "      <th>Transaction ID</th>\n",
       "      <th>Customer ID</th>\n",
       "      <th>Transaction Amount</th>\n",
       "      <th>Transaction Date and Time</th>\n",
       "      <th>Merchant Category</th>\n",
       "      <th>Location</th>\n",
       "      <th>Previous Transaction Amount</th>\n",
       "      <th>Time Since Last Transaction</th>\n",
       "      <th>Device Type</th>\n",
       "      <th>Fraud</th>\n",
       "    </tr>\n",
       "  </thead>\n",
       "  <tbody>\n",
       "    <tr>\n",
       "      <th>0</th>\n",
       "      <td>1</td>\n",
       "      <td>4174</td>\n",
       "      <td>659.297095</td>\n",
       "      <td>2023-01-01 00:00:00</td>\n",
       "      <td>Clothing</td>\n",
       "      <td>Los Angeles</td>\n",
       "      <td>579.323704</td>\n",
       "      <td>481.377516</td>\n",
       "      <td>desktop</td>\n",
       "      <td>No</td>\n",
       "    </tr>\n",
       "    <tr>\n",
       "      <th>1</th>\n",
       "      <td>2</td>\n",
       "      <td>4507</td>\n",
       "      <td>474.046452</td>\n",
       "      <td>2023-01-01 00:01:00</td>\n",
       "      <td>Dining</td>\n",
       "      <td>Houston</td>\n",
       "      <td>407.220271</td>\n",
       "      <td>1159.211075</td>\n",
       "      <td>desktop</td>\n",
       "      <td>No</td>\n",
       "    </tr>\n",
       "    <tr>\n",
       "      <th>2</th>\n",
       "      <td>3</td>\n",
       "      <td>1860</td>\n",
       "      <td>498.819570</td>\n",
       "      <td>2023-01-01 00:02:00</td>\n",
       "      <td>Dining</td>\n",
       "      <td>San Francisco</td>\n",
       "      <td>265.583605</td>\n",
       "      <td>720.677284</td>\n",
       "      <td>desktop</td>\n",
       "      <td>No</td>\n",
       "    </tr>\n",
       "    <tr>\n",
       "      <th>3</th>\n",
       "      <td>4</td>\n",
       "      <td>2294</td>\n",
       "      <td>744.199592</td>\n",
       "      <td>2023-01-01 00:03:00</td>\n",
       "      <td>Electronics</td>\n",
       "      <td>Los Angeles</td>\n",
       "      <td>1097.259081</td>\n",
       "      <td>1.000000</td>\n",
       "      <td>mobile</td>\n",
       "      <td>No</td>\n",
       "    </tr>\n",
       "    <tr>\n",
       "      <th>4</th>\n",
       "      <td>5</td>\n",
       "      <td>2130</td>\n",
       "      <td>279.181247</td>\n",
       "      <td>2023-01-01 00:04:00</td>\n",
       "      <td>Electronics</td>\n",
       "      <td>Los Angeles</td>\n",
       "      <td>238.389682</td>\n",
       "      <td>1378.958721</td>\n",
       "      <td>mobile</td>\n",
       "      <td>No</td>\n",
       "    </tr>\n",
       "  </tbody>\n",
       "</table>\n",
       "</div>"
      ],
      "text/plain": [
       "   Transaction ID  Customer ID  Transaction Amount Transaction Date and Time  \\\n",
       "0               1         4174          659.297095       2023-01-01 00:00:00   \n",
       "1               2         4507          474.046452       2023-01-01 00:01:00   \n",
       "2               3         1860          498.819570       2023-01-01 00:02:00   \n",
       "3               4         2294          744.199592       2023-01-01 00:03:00   \n",
       "4               5         2130          279.181247       2023-01-01 00:04:00   \n",
       "\n",
       "  Merchant Category       Location  Previous Transaction Amount  \\\n",
       "0          Clothing    Los Angeles                   579.323704   \n",
       "1            Dining        Houston                   407.220271   \n",
       "2            Dining  San Francisco                   265.583605   \n",
       "3       Electronics    Los Angeles                  1097.259081   \n",
       "4       Electronics    Los Angeles                   238.389682   \n",
       "\n",
       "   Time Since Last Transaction Device Type Fraud  \n",
       "0                   481.377516     desktop    No  \n",
       "1                  1159.211075     desktop    No  \n",
       "2                   720.677284     desktop    No  \n",
       "3                     1.000000      mobile    No  \n",
       "4                  1378.958721      mobile    No  "
      ]
     },
     "execution_count": 8,
     "metadata": {},
     "output_type": "execute_result"
    }
   ],
   "source": [
    "# See Data Head\n",
    "\n",
    "df.head()"
   ]
  },
  {
   "cell_type": "code",
   "execution_count": 23,
   "metadata": {},
   "outputs": [
    {
     "data": {
      "text/plain": [
       "<Axes: ylabel='Transaction Amount'>"
      ]
     },
     "execution_count": 23,
     "metadata": {},
     "output_type": "execute_result"
    },
    {
     "data": {
      "image/png": "[encoded data removed]",
      "text/plain": [
       "<Figure size 640x480 with 1 Axes>"
      ]
     },
     "metadata": {},
     "output_type": "display_data"
    }
   ],
   "source": [
    "# check Transaction Amount Distribution\n",
    "sns.boxplot(df['Transaction Amount'])"
   ]
  },
  {
   "cell_type": "code",
   "execution_count": 9,
   "metadata": {},
   "outputs": [
    {
     "data": {
      "text/plain": [
       "Customer ID\n",
       "4854    10\n",
       "3708    10\n",
       "1018     9\n",
       "1661     9\n",
       "2016     9\n",
       "        ..\n",
       "1003     1\n",
       "1025     1\n",
       "2417     1\n",
       "3554     1\n",
       "1308     1\n",
       "Name: count, Length: 3664, dtype: int64"
      ]
     },
     "execution_count": 9,
     "metadata": {},
     "output_type": "execute_result"
    }
   ],
   "source": [
    "# Check how many unique customers - 3664/10000\n",
    "\n",
    "df['Customer ID'].value_counts()"
   ]
  },
  {
   "cell_type": "code",
   "execution_count": 22,
   "metadata": {},
   "outputs": [
    {
     "data": {
      "image/png": "[encoded data removed]",
      "text/plain": [
       "<Figure size 1500x1000 with 2 Axes>"
      ]
     },
     "metadata": {},
     "output_type": "display_data"
    }
   ],
   "source": [
    "# heatmap of correlation matrix\n",
    "plt.figure(figsize=(15, 10))\n",
    "sns.heatmap(df.corr(numeric_only=True), annot=True, fmt=\".2f\", cmap='coolwarm')\n",
    "plt.title('Correlation Matrix Heatmap')\n",
    "plt.show()"
   ]
  },
  {
   "cell_type": "code",
   "execution_count": 10,
   "metadata": {},
   "outputs": [],
   "source": [
    "# Correct Output (Fraud) to Binary using Mapping\n",
    "# Convert 'Yes' to 1 and 'No' to 0\n",
    "df['Fraud'] = df['Fraud'].map({'Yes': 1, 'No': 0})"
   ]
  },
  {
   "cell_type": "code",
   "execution_count": 11,
   "metadata": {},
   "outputs": [
    {
     "data": {
      "text/plain": [
       "Fraud\n",
       "0    8608\n",
       "1    1392\n",
       "Name: count, dtype: int64"
      ]
     },
     "execution_count": 11,
     "metadata": {},
     "output_type": "execute_result"
    }
   ],
   "source": [
    "# Verify Done Correctly\n",
    "\n",
    "df['Fraud'].value_counts()"
   ]
  },
  {
   "cell_type": "code",
   "execution_count": 12,
   "metadata": {},
   "outputs": [
    {
     "data": {
      "text/plain": [
       "Index(['Transaction ID', 'Customer ID', 'Transaction Amount',\n",
       "       'Transaction Date and Time', 'Merchant Category', 'Location',\n",
       "       'Previous Transaction Amount', 'Time Since Last Transaction',\n",
       "       'Device Type', 'Fraud'],\n",
       "      dtype='object')"
      ]
     },
     "execution_count": 12,
     "metadata": {},
     "output_type": "execute_result"
    }
   ],
   "source": [
    "df.columns"
   ]
  },
  {
   "cell_type": "code",
   "execution_count": 13,
   "metadata": {},
   "outputs": [
    {
     "data": {
      "text/html": [
       "<div>\n",
       "<style scoped>\n",
       "    .dataframe tbody tr th:only-of-type {\n",
       "        vertical-align: middle;\n",
       "    }\n",
       "\n",
       "    .dataframe tbody tr th {\n",
       "        vertical-align: top;\n",
       "    }\n",
       "\n",
       "    .dataframe thead th {\n",
       "        text-align: right;\n",
       "    }\n",
       "</style>\n",
       "<table border=\"1\" class=\"dataframe\">\n",
       "  <thead>\n",
       "    <tr style=\"text-align: right;\">\n",
       "      <th></th>\n",
       "      <th>Fraud_Percentage</th>\n",
       "    </tr>\n",
       "    <tr>\n",
       "      <th>Customer ID</th>\n",
       "      <th></th>\n",
       "    </tr>\n",
       "  </thead>\n",
       "  <tbody>\n",
       "    <tr>\n",
       "      <th>1000</th>\n",
       "      <td>0.0</td>\n",
       "    </tr>\n",
       "    <tr>\n",
       "      <th>1001</th>\n",
       "      <td>40.0</td>\n",
       "    </tr>\n",
       "    <tr>\n",
       "      <th>1002</th>\n",
       "      <td>0.0</td>\n",
       "    </tr>\n",
       "    <tr>\n",
       "      <th>1003</th>\n",
       "      <td>0.0</td>\n",
       "    </tr>\n",
       "    <tr>\n",
       "      <th>1004</th>\n",
       "      <td>0.0</td>\n",
       "    </tr>\n",
       "    <tr>\n",
       "      <th>...</th>\n",
       "      <td>...</td>\n",
       "    </tr>\n",
       "    <tr>\n",
       "      <th>4995</th>\n",
       "      <td>0.0</td>\n",
       "    </tr>\n",
       "    <tr>\n",
       "      <th>4996</th>\n",
       "      <td>20.0</td>\n",
       "    </tr>\n",
       "    <tr>\n",
       "      <th>4997</th>\n",
       "      <td>0.0</td>\n",
       "    </tr>\n",
       "    <tr>\n",
       "      <th>4998</th>\n",
       "      <td>0.0</td>\n",
       "    </tr>\n",
       "    <tr>\n",
       "      <th>4999</th>\n",
       "      <td>50.0</td>\n",
       "    </tr>\n",
       "  </tbody>\n",
       "</table>\n",
       "<p>3664 rows × 1 columns</p>\n",
       "</div>"
      ],
      "text/plain": [
       "             Fraud_Percentage\n",
       "Customer ID                  \n",
       "1000                      0.0\n",
       "1001                     40.0\n",
       "1002                      0.0\n",
       "1003                      0.0\n",
       "1004                      0.0\n",
       "...                       ...\n",
       "4995                      0.0\n",
       "4996                     20.0\n",
       "4997                      0.0\n",
       "4998                      0.0\n",
       "4999                     50.0\n",
       "\n",
       "[3664 rows x 1 columns]"
      ]
     },
     "execution_count": 13,
     "metadata": {},
     "output_type": "execute_result"
    }
   ],
   "source": [
    "# Group by 'Customer ID' and calculate the sum and count of 'Fraud'\n",
    "summary = df.groupby('Customer ID')['Fraud'].agg(['sum', 'count'])\n",
    "\n",
    "# Calculate the percentage of fraud (1s) in each job role\n",
    "summary['Fraud_Percentage'] = (summary['sum'] / summary['count']) * 100\n",
    "\n",
    "# Display the result\n",
    "summary[['Fraud_Percentage']]"
   ]
  },
  {
   "cell_type": "markdown",
   "metadata": {},
   "source": [
    "# Merchant Category no Strong Relationship"
   ]
  },
  {
   "cell_type": "code",
   "execution_count": 14,
   "metadata": {},
   "outputs": [
    {
     "data": {
      "text/html": [
       "<div>\n",
       "<style scoped>\n",
       "    .dataframe tbody tr th:only-of-type {\n",
       "        vertical-align: middle;\n",
       "    }\n",
       "\n",
       "    .dataframe tbody tr th {\n",
       "        vertical-align: top;\n",
       "    }\n",
       "\n",
       "    .dataframe thead th {\n",
       "        text-align: right;\n",
       "    }\n",
       "</style>\n",
       "<table border=\"1\" class=\"dataframe\">\n",
       "  <thead>\n",
       "    <tr style=\"text-align: right;\">\n",
       "      <th></th>\n",
       "      <th>Fraud_Percentage</th>\n",
       "    </tr>\n",
       "    <tr>\n",
       "      <th>Merchant Category</th>\n",
       "      <th></th>\n",
       "    </tr>\n",
       "  </thead>\n",
       "  <tbody>\n",
       "    <tr>\n",
       "      <th>Clothing</th>\n",
       "      <td>14.571150</td>\n",
       "    </tr>\n",
       "    <tr>\n",
       "      <th>Dining</th>\n",
       "      <td>13.866153</td>\n",
       "    </tr>\n",
       "    <tr>\n",
       "      <th>Electronics</th>\n",
       "      <td>14.322251</td>\n",
       "    </tr>\n",
       "    <tr>\n",
       "      <th>Groceries</th>\n",
       "      <td>13.817448</td>\n",
       "    </tr>\n",
       "    <tr>\n",
       "      <th>Travel</th>\n",
       "      <td>12.984997</td>\n",
       "    </tr>\n",
       "  </tbody>\n",
       "</table>\n",
       "</div>"
      ],
      "text/plain": [
       "                   Fraud_Percentage\n",
       "Merchant Category                  \n",
       "Clothing                  14.571150\n",
       "Dining                    13.866153\n",
       "Electronics               14.322251\n",
       "Groceries                 13.817448\n",
       "Travel                    12.984997"
      ]
     },
     "execution_count": 14,
     "metadata": {},
     "output_type": "execute_result"
    }
   ],
   "source": [
    "# Group by 'Merchant Category' and calculate the sum and count of 'Fraud'\n",
    "summary = df.groupby('Merchant Category')['Fraud'].agg(['sum', 'count'])\n",
    "\n",
    "# Calculate the percentage of fraud (1s) in each job role\n",
    "summary['Fraud_Percentage'] = (summary['sum'] / summary['count']) * 100\n",
    "\n",
    "# Display the result\n",
    "summary[['Fraud_Percentage']]"
   ]
  },
  {
   "cell_type": "markdown",
   "metadata": {},
   "source": [
    "# Location - Showing Possible Strong Relation to Fraud\n",
    "Hypothesis: Location will have heavy influence on determining whether a transaction is fraud or not\n",
    "Null Hypothesis: Location does not have any influence on whether a transaction is fraud or not."
   ]
  },
  {
   "cell_type": "code",
   "execution_count": 15,
   "metadata": {},
   "outputs": [
    {
     "data": {
      "text/html": [
       "<div>\n",
       "<style scoped>\n",
       "    .dataframe tbody tr th:only-of-type {\n",
       "        vertical-align: middle;\n",
       "    }\n",
       "\n",
       "    .dataframe tbody tr th {\n",
       "        vertical-align: top;\n",
       "    }\n",
       "\n",
       "    .dataframe thead th {\n",
       "        text-align: right;\n",
       "    }\n",
       "</style>\n",
       "<table border=\"1\" class=\"dataframe\">\n",
       "  <thead>\n",
       "    <tr style=\"text-align: right;\">\n",
       "      <th></th>\n",
       "      <th>Fraud_Percentage</th>\n",
       "    </tr>\n",
       "    <tr>\n",
       "      <th>Location</th>\n",
       "      <th></th>\n",
       "    </tr>\n",
       "  </thead>\n",
       "  <tbody>\n",
       "    <tr>\n",
       "      <th>Chicago</th>\n",
       "      <td>10.861619</td>\n",
       "    </tr>\n",
       "    <tr>\n",
       "      <th>Houston</th>\n",
       "      <td>27.265065</td>\n",
       "    </tr>\n",
       "    <tr>\n",
       "      <th>Los Angeles</th>\n",
       "      <td>9.304703</td>\n",
       "    </tr>\n",
       "    <tr>\n",
       "      <th>New York</th>\n",
       "      <td>10.664523</td>\n",
       "    </tr>\n",
       "    <tr>\n",
       "      <th>San Francisco</th>\n",
       "      <td>8.253968</td>\n",
       "    </tr>\n",
       "  </tbody>\n",
       "</table>\n",
       "</div>"
      ],
      "text/plain": [
       "               Fraud_Percentage\n",
       "Location                       \n",
       "Chicago               10.861619\n",
       "Houston               27.265065\n",
       "Los Angeles            9.304703\n",
       "New York              10.664523\n",
       "San Francisco          8.253968"
      ]
     },
     "execution_count": 15,
     "metadata": {},
     "output_type": "execute_result"
    }
   ],
   "source": [
    "# Group by 'Location' and calculate the sum and count of 'Fraud'\n",
    "summary = df.groupby('Location')['Fraud'].agg(['sum', 'count'])\n",
    "\n",
    "# Calculate the percentage of fraud (1s) in each job role\n",
    "summary['Fraud_Percentage'] = (summary['sum'] / summary['count']) * 100\n",
    "\n",
    "# Display the result\n",
    "summary[['Fraud_Percentage']]"
   ]
  },
  {
   "cell_type": "markdown",
   "metadata": {},
   "source": [
    "# Even Split for Device Type"
   ]
  },
  {
   "cell_type": "code",
   "execution_count": 16,
   "metadata": {},
   "outputs": [
    {
     "data": {
      "text/html": [
       "<div>\n",
       "<style scoped>\n",
       "    .dataframe tbody tr th:only-of-type {\n",
       "        vertical-align: middle;\n",
       "    }\n",
       "\n",
       "    .dataframe tbody tr th {\n",
       "        vertical-align: top;\n",
       "    }\n",
       "\n",
       "    .dataframe thead th {\n",
       "        text-align: right;\n",
       "    }\n",
       "</style>\n",
       "<table border=\"1\" class=\"dataframe\">\n",
       "  <thead>\n",
       "    <tr style=\"text-align: right;\">\n",
       "      <th></th>\n",
       "      <th>Fraud_Percentage</th>\n",
       "    </tr>\n",
       "    <tr>\n",
       "      <th>Device Type</th>\n",
       "      <th></th>\n",
       "    </tr>\n",
       "  </thead>\n",
       "  <tbody>\n",
       "    <tr>\n",
       "      <th>desktop</th>\n",
       "      <td>13.973627</td>\n",
       "    </tr>\n",
       "    <tr>\n",
       "      <th>mobile</th>\n",
       "      <td>13.864607</td>\n",
       "    </tr>\n",
       "  </tbody>\n",
       "</table>\n",
       "</div>"
      ],
      "text/plain": [
       "             Fraud_Percentage\n",
       "Device Type                  \n",
       "desktop             13.973627\n",
       "mobile              13.864607"
      ]
     },
     "execution_count": 16,
     "metadata": {},
     "output_type": "execute_result"
    }
   ],
   "source": [
    "# Group by 'Device Type' and calculate the sum and count of 'Fraud'\n",
    "summary = df.groupby('Device Type')['Fraud'].agg(['sum', 'count'])\n",
    "\n",
    "# Calculate the percentage of fraud (1s) in each job role\n",
    "summary['Fraud_Percentage'] = (summary['sum'] / summary['count']) * 100\n",
    "\n",
    "# Display the result\n",
    "summary[['Fraud_Percentage']]"
   ]
  },
  {
   "cell_type": "code",
   "execution_count": 18,
   "metadata": {},
   "outputs": [
    {
     "data": {
      "text/plain": [
       "count    10000.000000\n",
       "mean       677.040726\n",
       "std        432.386769\n",
       "min          1.000000\n",
       "25%        295.523894\n",
       "50%        653.143168\n",
       "75%       1048.479972\n",
       "max       1694.715674\n",
       "Name: Time Since Last Transaction, dtype: float64"
      ]
     },
     "execution_count": 18,
     "metadata": {},
     "output_type": "execute_result"
    }
   ],
   "source": [
    "df['Time Since Last Transaction'].describe()"
   ]
  },
  {
   "cell_type": "code",
   "execution_count": 24,
   "metadata": {},
   "outputs": [
    {
     "data": {
      "text/plain": [
       "Index(['Transaction ID', 'Customer ID', 'Transaction Amount',\n",
       "       'Transaction Date and Time', 'Merchant Category', 'Location',\n",
       "       'Previous Transaction Amount', 'Time Since Last Transaction',\n",
       "       'Device Type', 'Fraud', 'Time Since Trans Bins'],\n",
       "      dtype='object')"
      ]
     },
     "execution_count": 24,
     "metadata": {},
     "output_type": "execute_result"
    }
   ],
   "source": [
    "df.columns"
   ]
  },
  {
   "cell_type": "code",
   "execution_count": 25,
   "metadata": {},
   "outputs": [
    {
     "data": {
      "image/png": "[encoded data removed]",
      "text/plain": [
       "<Figure size 640x480 with 1 Axes>"
      ]
     },
     "metadata": {},
     "output_type": "display_data"
    }
   ],
   "source": [
    "sns.countplot(x='Location', hue='Fraud', data=df, palette='pastel')\n",
    "plt.title('Fraud by Location')\n",
    "plt.xlabel('Performance Rating')\n",
    "plt.ylabel('Count')\n",
    "plt.xticks(rotation=45)\n",
    "plt.show()"
   ]
  },
  {
   "cell_type": "code",
   "execution_count": 20,
   "metadata": {},
   "outputs": [
    {
     "data": {
      "text/plain": [
       "Time Since Trans Bins\n",
       "650-1047    2510\n",
       "1048+       2507\n",
       "0 - 294     2496\n",
       "295-649     2487\n",
       "Name: count, dtype: int64"
      ]
     },
     "execution_count": 20,
     "metadata": {},
     "output_type": "execute_result"
    }
   ],
   "source": [
    "# Feature Engineering Time\n",
    "# Time Since Last Transaction - lets put it in Bins for visualization\n",
    "\n",
    "# Define the bins and labels(25%,50%,75%,infinity)\n",
    "ltv_bins = [0, 295, 650, 1048, float('inf')]\n",
    "ltv_labels = ['0 - 294', '295-649', '650-1047', '1048+']\n",
    "\n",
    "# Create the LTV_cat column in the transaction_level DataFrame\n",
    "df['Time Since Trans Bins'] = pd.cut(df['Time Since Last Transaction'], bins=ltv_bins, labels=ltv_labels, right=False)\n",
    "df['Time Since Trans Bins'].value_counts()"
   ]
  },
  {
   "cell_type": "markdown",
   "metadata": {},
   "source": [
    "# Time Since Last Transaction Categories showing strong relation to Fraud\n",
    "Hypothesis: Short Time since Last Transaction has a higher chance of being Fraud\n",
    "Null Hypothesis: Time since Last Transaction has no effect on Fraud"
   ]
  },
  {
   "cell_type": "code",
   "execution_count": 21,
   "metadata": {},
   "outputs": [
    {
     "name": "stderr",
     "output_type": "stream",
     "text": [
      "C:\\Users\\etjdr\\AppData\\Local\\Temp\\ipykernel_2308\\1796970337.py:2: FutureWarning: The default of observed=False is deprecated and will be changed to True in a future version of pandas. Pass observed=False to retain current behavior or observed=True to adopt the future default and silence this warning.\n",
      "  summary = df.groupby('Time Since Trans Bins')['Fraud'].agg(['sum', 'count'])\n"
     ]
    },
    {
     "data": {
      "text/html": [
       "<div>\n",
       "<style scoped>\n",
       "    .dataframe tbody tr th:only-of-type {\n",
       "        vertical-align: middle;\n",
       "    }\n",
       "\n",
       "    .dataframe tbody tr th {\n",
       "        vertical-align: top;\n",
       "    }\n",
       "\n",
       "    .dataframe thead th {\n",
       "        text-align: right;\n",
       "    }\n",
       "</style>\n",
       "<table border=\"1\" class=\"dataframe\">\n",
       "  <thead>\n",
       "    <tr style=\"text-align: right;\">\n",
       "      <th></th>\n",
       "      <th>Time Since Trans Bins</th>\n",
       "    </tr>\n",
       "    <tr>\n",
       "      <th>Time Since Trans Bins</th>\n",
       "      <th></th>\n",
       "    </tr>\n",
       "  </thead>\n",
       "  <tbody>\n",
       "    <tr>\n",
       "      <th>0 - 294</th>\n",
       "      <td>29.366987</td>\n",
       "    </tr>\n",
       "    <tr>\n",
       "      <th>295-649</th>\n",
       "      <td>15.802171</td>\n",
       "    </tr>\n",
       "    <tr>\n",
       "      <th>650-1047</th>\n",
       "      <td>5.737052</td>\n",
       "    </tr>\n",
       "    <tr>\n",
       "      <th>1048+</th>\n",
       "      <td>4.866374</td>\n",
       "    </tr>\n",
       "  </tbody>\n",
       "</table>\n",
       "</div>"
      ],
      "text/plain": [
       "                       Time Since Trans Bins\n",
       "Time Since Trans Bins                       \n",
       "0 - 294                            29.366987\n",
       "295-649                            15.802171\n",
       "650-1047                            5.737052\n",
       "1048+                               4.866374"
      ]
     },
     "execution_count": 21,
     "metadata": {},
     "output_type": "execute_result"
    }
   ],
   "source": [
    "# Group by 'Device Type' and calculate the sum and count of 'Fraud'\n",
    "summary = df.groupby('Time Since Trans Bins')['Fraud'].agg(['sum', 'count'])\n",
    "\n",
    "# Calculate the percentage of fraud (1s) in each job role\n",
    "summary['Time Since Trans Bins'] = (summary['sum'] / summary['count']) * 100\n",
    "\n",
    "# Display the result\n",
    "summary[['Time Since Trans Bins']]"
   ]
  },
  {
   "cell_type": "code",
   "execution_count": 26,
   "metadata": {},
   "outputs": [
    {
     "data": {
      "image/png": "[encoded data removed]",
      "text/plain": [
       "<Figure size 640x480 with 1 Axes>"
      ]
     },
     "metadata": {},
     "output_type": "display_data"
    }
   ],
   "source": [
    "sns.countplot(x='Time Since Trans Bins', hue='Fraud', data=df, palette='pastel')\n",
    "plt.title('Fraud by Time Since Last Transaction')\n",
    "plt.xlabel('Time Since Last Transaction (days)')\n",
    "plt.ylabel('Count')\n",
    "plt.xticks(rotation=45)\n",
    "plt.show()"
   ]
  },
  {
   "cell_type": "code",
   "execution_count": 27,
   "metadata": {},
   "outputs": [
    {
     "data": {
      "text/html": [
       "<div>\n",
       "<style scoped>\n",
       "    .dataframe tbody tr th:only-of-type {\n",
       "        vertical-align: middle;\n",
       "    }\n",
       "\n",
       "    .dataframe tbody tr th {\n",
       "        vertical-align: top;\n",
       "    }\n",
       "\n",
       "    .dataframe thead th {\n",
       "        text-align: right;\n",
       "    }\n",
       "</style>\n",
       "<table border=\"1\" class=\"dataframe\">\n",
       "  <thead>\n",
       "    <tr style=\"text-align: right;\">\n",
       "      <th></th>\n",
       "      <th>Transaction ID</th>\n",
       "      <th>Customer ID</th>\n",
       "      <th>Transaction Amount</th>\n",
       "      <th>Transaction Date and Time</th>\n",
       "      <th>Merchant Category</th>\n",
       "      <th>Location</th>\n",
       "      <th>Previous Transaction Amount</th>\n",
       "      <th>Time Since Last Transaction</th>\n",
       "      <th>Device Type</th>\n",
       "      <th>Fraud</th>\n",
       "      <th>Time Since Trans Bins</th>\n",
       "    </tr>\n",
       "  </thead>\n",
       "  <tbody>\n",
       "    <tr>\n",
       "      <th>0</th>\n",
       "      <td>1</td>\n",
       "      <td>4174</td>\n",
       "      <td>659.297095</td>\n",
       "      <td>2023-01-01 00:00:00</td>\n",
       "      <td>Clothing</td>\n",
       "      <td>Los Angeles</td>\n",
       "      <td>579.323704</td>\n",
       "      <td>481.377516</td>\n",
       "      <td>desktop</td>\n",
       "      <td>0</td>\n",
       "      <td>295-649</td>\n",
       "    </tr>\n",
       "    <tr>\n",
       "      <th>1</th>\n",
       "      <td>2</td>\n",
       "      <td>4507</td>\n",
       "      <td>474.046452</td>\n",
       "      <td>2023-01-01 00:01:00</td>\n",
       "      <td>Dining</td>\n",
       "      <td>Houston</td>\n",
       "      <td>407.220271</td>\n",
       "      <td>1159.211075</td>\n",
       "      <td>desktop</td>\n",
       "      <td>0</td>\n",
       "      <td>1048+</td>\n",
       "    </tr>\n",
       "    <tr>\n",
       "      <th>2</th>\n",
       "      <td>3</td>\n",
       "      <td>1860</td>\n",
       "      <td>498.819570</td>\n",
       "      <td>2023-01-01 00:02:00</td>\n",
       "      <td>Dining</td>\n",
       "      <td>San Francisco</td>\n",
       "      <td>265.583605</td>\n",
       "      <td>720.677284</td>\n",
       "      <td>desktop</td>\n",
       "      <td>0</td>\n",
       "      <td>650-1047</td>\n",
       "    </tr>\n",
       "    <tr>\n",
       "      <th>3</th>\n",
       "      <td>4</td>\n",
       "      <td>2294</td>\n",
       "      <td>744.199592</td>\n",
       "      <td>2023-01-01 00:03:00</td>\n",
       "      <td>Electronics</td>\n",
       "      <td>Los Angeles</td>\n",
       "      <td>1097.259081</td>\n",
       "      <td>1.000000</td>\n",
       "      <td>mobile</td>\n",
       "      <td>0</td>\n",
       "      <td>0 - 294</td>\n",
       "    </tr>\n",
       "    <tr>\n",
       "      <th>4</th>\n",
       "      <td>5</td>\n",
       "      <td>2130</td>\n",
       "      <td>279.181247</td>\n",
       "      <td>2023-01-01 00:04:00</td>\n",
       "      <td>Electronics</td>\n",
       "      <td>Los Angeles</td>\n",
       "      <td>238.389682</td>\n",
       "      <td>1378.958721</td>\n",
       "      <td>mobile</td>\n",
       "      <td>0</td>\n",
       "      <td>1048+</td>\n",
       "    </tr>\n",
       "  </tbody>\n",
       "</table>\n",
       "</div>"
      ],
      "text/plain": [
       "   Transaction ID  Customer ID  Transaction Amount Transaction Date and Time  \\\n",
       "0               1         4174          659.297095       2023-01-01 00:00:00   \n",
       "1               2         4507          474.046452       2023-01-01 00:01:00   \n",
       "2               3         1860          498.819570       2023-01-01 00:02:00   \n",
       "3               4         2294          744.199592       2023-01-01 00:03:00   \n",
       "4               5         2130          279.181247       2023-01-01 00:04:00   \n",
       "\n",
       "  Merchant Category       Location  Previous Transaction Amount  \\\n",
       "0          Clothing    Los Angeles                   579.323704   \n",
       "1            Dining        Houston                   407.220271   \n",
       "2            Dining  San Francisco                   265.583605   \n",
       "3       Electronics    Los Angeles                  1097.259081   \n",
       "4       Electronics    Los Angeles                   238.389682   \n",
       "\n",
       "   Time Since Last Transaction Device Type  Fraud Time Since Trans Bins  \n",
       "0                   481.377516     desktop      0               295-649  \n",
       "1                  1159.211075     desktop      0                 1048+  \n",
       "2                   720.677284     desktop      0              650-1047  \n",
       "3                     1.000000      mobile      0               0 - 294  \n",
       "4                  1378.958721      mobile      0                 1048+  "
      ]
     },
     "execution_count": 27,
     "metadata": {},
     "output_type": "execute_result"
    }
   ],
   "source": [
    "df.head()"
   ]
  },
  {
   "cell_type": "code",
   "execution_count": 32,
   "metadata": {},
   "outputs": [
    {
     "data": {
      "text/html": [
       "<div>\n",
       "<style scoped>\n",
       "    .dataframe tbody tr th:only-of-type {\n",
       "        vertical-align: middle;\n",
       "    }\n",
       "\n",
       "    .dataframe tbody tr th {\n",
       "        vertical-align: top;\n",
       "    }\n",
       "\n",
       "    .dataframe thead th {\n",
       "        text-align: right;\n",
       "    }\n",
       "</style>\n",
       "<table border=\"1\" class=\"dataframe\">\n",
       "  <thead>\n",
       "    <tr style=\"text-align: right;\">\n",
       "      <th></th>\n",
       "      <th>Transaction ID</th>\n",
       "      <th>Customer ID</th>\n",
       "      <th>Transaction Amount</th>\n",
       "      <th>Transaction Date and Time</th>\n",
       "      <th>Merchant Category</th>\n",
       "      <th>Location</th>\n",
       "      <th>Previous Transaction Amount</th>\n",
       "      <th>Time Since Last Transaction</th>\n",
       "      <th>Device Type</th>\n",
       "      <th>Fraud</th>\n",
       "      <th>Time Since Trans Bins</th>\n",
       "      <th>Avg Trans Amt</th>\n",
       "    </tr>\n",
       "  </thead>\n",
       "  <tbody>\n",
       "    <tr>\n",
       "      <th>0</th>\n",
       "      <td>1</td>\n",
       "      <td>4174</td>\n",
       "      <td>659.297095</td>\n",
       "      <td>2023-01-01 00:00:00</td>\n",
       "      <td>Clothing</td>\n",
       "      <td>Los Angeles</td>\n",
       "      <td>579.323704</td>\n",
       "      <td>481.377516</td>\n",
       "      <td>desktop</td>\n",
       "      <td>0</td>\n",
       "      <td>295-649</td>\n",
       "      <td>439.330623</td>\n",
       "    </tr>\n",
       "    <tr>\n",
       "      <th>1</th>\n",
       "      <td>2</td>\n",
       "      <td>4507</td>\n",
       "      <td>474.046452</td>\n",
       "      <td>2023-01-01 00:01:00</td>\n",
       "      <td>Dining</td>\n",
       "      <td>Houston</td>\n",
       "      <td>407.220271</td>\n",
       "      <td>1159.211075</td>\n",
       "      <td>desktop</td>\n",
       "      <td>0</td>\n",
       "      <td>1048+</td>\n",
       "      <td>1199.425957</td>\n",
       "    </tr>\n",
       "    <tr>\n",
       "      <th>2</th>\n",
       "      <td>3</td>\n",
       "      <td>1860</td>\n",
       "      <td>498.819570</td>\n",
       "      <td>2023-01-01 00:02:00</td>\n",
       "      <td>Dining</td>\n",
       "      <td>San Francisco</td>\n",
       "      <td>265.583605</td>\n",
       "      <td>720.677284</td>\n",
       "      <td>desktop</td>\n",
       "      <td>0</td>\n",
       "      <td>650-1047</td>\n",
       "      <td>565.511158</td>\n",
       "    </tr>\n",
       "    <tr>\n",
       "      <th>3</th>\n",
       "      <td>4</td>\n",
       "      <td>2294</td>\n",
       "      <td>744.199592</td>\n",
       "      <td>2023-01-01 00:03:00</td>\n",
       "      <td>Electronics</td>\n",
       "      <td>Los Angeles</td>\n",
       "      <td>1097.259081</td>\n",
       "      <td>1.000000</td>\n",
       "      <td>mobile</td>\n",
       "      <td>0</td>\n",
       "      <td>0 - 294</td>\n",
       "      <td>726.110747</td>\n",
       "    </tr>\n",
       "    <tr>\n",
       "      <th>4</th>\n",
       "      <td>5</td>\n",
       "      <td>2130</td>\n",
       "      <td>279.181247</td>\n",
       "      <td>2023-01-01 00:04:00</td>\n",
       "      <td>Electronics</td>\n",
       "      <td>Los Angeles</td>\n",
       "      <td>238.389682</td>\n",
       "      <td>1378.958721</td>\n",
       "      <td>mobile</td>\n",
       "      <td>0</td>\n",
       "      <td>1048+</td>\n",
       "      <td>469.563006</td>\n",
       "    </tr>\n",
       "    <tr>\n",
       "      <th>5</th>\n",
       "      <td>6</td>\n",
       "      <td>2095</td>\n",
       "      <td>395.323790</td>\n",
       "      <td>2023-01-01 00:05:00</td>\n",
       "      <td>Dining</td>\n",
       "      <td>New York</td>\n",
       "      <td>421.926105</td>\n",
       "      <td>548.706785</td>\n",
       "      <td>mobile</td>\n",
       "      <td>0</td>\n",
       "      <td>295-649</td>\n",
       "      <td>231.696571</td>\n",
       "    </tr>\n",
       "    <tr>\n",
       "      <th>6</th>\n",
       "      <td>7</td>\n",
       "      <td>4772</td>\n",
       "      <td>967.649233</td>\n",
       "      <td>2023-01-01 00:06:00</td>\n",
       "      <td>Groceries</td>\n",
       "      <td>Los Angeles</td>\n",
       "      <td>1226.767073</td>\n",
       "      <td>331.319088</td>\n",
       "      <td>desktop</td>\n",
       "      <td>0</td>\n",
       "      <td>295-649</td>\n",
       "      <td>863.249349</td>\n",
       "    </tr>\n",
       "    <tr>\n",
       "      <th>7</th>\n",
       "      <td>8</td>\n",
       "      <td>4092</td>\n",
       "      <td>16.558875</td>\n",
       "      <td>2023-01-01 00:07:00</td>\n",
       "      <td>Dining</td>\n",
       "      <td>Chicago</td>\n",
       "      <td>78.163605</td>\n",
       "      <td>662.724041</td>\n",
       "      <td>desktop</td>\n",
       "      <td>0</td>\n",
       "      <td>650-1047</td>\n",
       "      <td>305.449898</td>\n",
       "    </tr>\n",
       "    <tr>\n",
       "      <th>8</th>\n",
       "      <td>9</td>\n",
       "      <td>2638</td>\n",
       "      <td>533.075713</td>\n",
       "      <td>2023-01-01 00:08:00</td>\n",
       "      <td>Dining</td>\n",
       "      <td>Los Angeles</td>\n",
       "      <td>553.556682</td>\n",
       "      <td>896.814583</td>\n",
       "      <td>mobile</td>\n",
       "      <td>0</td>\n",
       "      <td>650-1047</td>\n",
       "      <td>462.492542</td>\n",
       "    </tr>\n",
       "    <tr>\n",
       "      <th>9</th>\n",
       "      <td>10</td>\n",
       "      <td>3169</td>\n",
       "      <td>909.749227</td>\n",
       "      <td>2023-01-01 00:09:00</td>\n",
       "      <td>Electronics</td>\n",
       "      <td>Chicago</td>\n",
       "      <td>571.664421</td>\n",
       "      <td>505.032036</td>\n",
       "      <td>mobile</td>\n",
       "      <td>0</td>\n",
       "      <td>295-649</td>\n",
       "      <td>698.318286</td>\n",
       "    </tr>\n",
       "  </tbody>\n",
       "</table>\n",
       "</div>"
      ],
      "text/plain": [
       "   Transaction ID  Customer ID  Transaction Amount Transaction Date and Time  \\\n",
       "0               1         4174          659.297095       2023-01-01 00:00:00   \n",
       "1               2         4507          474.046452       2023-01-01 00:01:00   \n",
       "2               3         1860          498.819570       2023-01-01 00:02:00   \n",
       "3               4         2294          744.199592       2023-01-01 00:03:00   \n",
       "4               5         2130          279.181247       2023-01-01 00:04:00   \n",
       "5               6         2095          395.323790       2023-01-01 00:05:00   \n",
       "6               7         4772          967.649233       2023-01-01 00:06:00   \n",
       "7               8         4092           16.558875       2023-01-01 00:07:00   \n",
       "8               9         2638          533.075713       2023-01-01 00:08:00   \n",
       "9              10         3169          909.749227       2023-01-01 00:09:00   \n",
       "\n",
       "  Merchant Category       Location  Previous Transaction Amount  \\\n",
       "0          Clothing    Los Angeles                   579.323704   \n",
       "1            Dining        Houston                   407.220271   \n",
       "2            Dining  San Francisco                   265.583605   \n",
       "3       Electronics    Los Angeles                  1097.259081   \n",
       "4       Electronics    Los Angeles                   238.389682   \n",
       "5            Dining       New York                   421.926105   \n",
       "6         Groceries    Los Angeles                  1226.767073   \n",
       "7            Dining        Chicago                    78.163605   \n",
       "8            Dining    Los Angeles                   553.556682   \n",
       "9       Electronics        Chicago                   571.664421   \n",
       "\n",
       "   Time Since Last Transaction Device Type  Fraud Time Since Trans Bins  \\\n",
       "0                   481.377516     desktop      0               295-649   \n",
       "1                  1159.211075     desktop      0                 1048+   \n",
       "2                   720.677284     desktop      0              650-1047   \n",
       "3                     1.000000      mobile      0               0 - 294   \n",
       "4                  1378.958721      mobile      0                 1048+   \n",
       "5                   548.706785      mobile      0               295-649   \n",
       "6                   331.319088     desktop      0               295-649   \n",
       "7                   662.724041     desktop      0              650-1047   \n",
       "8                   896.814583      mobile      0              650-1047   \n",
       "9                   505.032036      mobile      0               295-649   \n",
       "\n",
       "   Avg Trans Amt  \n",
       "0     439.330623  \n",
       "1    1199.425957  \n",
       "2     565.511158  \n",
       "3     726.110747  \n",
       "4     469.563006  \n",
       "5     231.696571  \n",
       "6     863.249349  \n",
       "7     305.449898  \n",
       "8     462.492542  \n",
       "9     698.318286  "
      ]
     },
     "execution_count": 32,
     "metadata": {},
     "output_type": "execute_result"
    }
   ],
   "source": [
    "# Average Transaction Amount per Unique Customer ID\n",
    "\n",
    "df['Avg Trans Amt'] = df.groupby('Customer ID')['Transaction Amount'].transform('mean')\n",
    "df.head(10)"
   ]
  },
  {
   "cell_type": "code",
   "execution_count": 58,
   "metadata": {},
   "outputs": [
    {
     "data": {
      "text/html": [
       "<div>\n",
       "<style scoped>\n",
       "    .dataframe tbody tr th:only-of-type {\n",
       "        vertical-align: middle;\n",
       "    }\n",
       "\n",
       "    .dataframe tbody tr th {\n",
       "        vertical-align: top;\n",
       "    }\n",
       "\n",
       "    .dataframe thead th {\n",
       "        text-align: right;\n",
       "    }\n",
       "</style>\n",
       "<table border=\"1\" class=\"dataframe\">\n",
       "  <thead>\n",
       "    <tr style=\"text-align: right;\">\n",
       "      <th></th>\n",
       "      <th>Transaction ID</th>\n",
       "      <th>Customer ID</th>\n",
       "      <th>Transaction Amount</th>\n",
       "      <th>Transaction Date and Time</th>\n",
       "      <th>Merchant Category</th>\n",
       "      <th>Location</th>\n",
       "      <th>Previous Transaction Amount</th>\n",
       "      <th>Time Since Last Transaction</th>\n",
       "      <th>Device Type</th>\n",
       "      <th>Fraud</th>\n",
       "      <th>Time Since Trans Bins</th>\n",
       "      <th>Avg Trans Amt</th>\n",
       "      <th>Total Spend</th>\n",
       "      <th>Customer Lifespan</th>\n",
       "    </tr>\n",
       "  </thead>\n",
       "  <tbody>\n",
       "    <tr>\n",
       "      <th>0</th>\n",
       "      <td>1</td>\n",
       "      <td>4174</td>\n",
       "      <td>659.297095</td>\n",
       "      <td>2023-01-01 00:00:00</td>\n",
       "      <td>Clothing</td>\n",
       "      <td>Los Angeles</td>\n",
       "      <td>579.323704</td>\n",
       "      <td>481.377516</td>\n",
       "      <td>desktop</td>\n",
       "      <td>0</td>\n",
       "      <td>295-649</td>\n",
       "      <td>439.330623</td>\n",
       "      <td>1317.991869</td>\n",
       "      <td>2521.608540</td>\n",
       "    </tr>\n",
       "    <tr>\n",
       "      <th>1</th>\n",
       "      <td>2</td>\n",
       "      <td>4507</td>\n",
       "      <td>474.046452</td>\n",
       "      <td>2023-01-01 00:01:00</td>\n",
       "      <td>Dining</td>\n",
       "      <td>Houston</td>\n",
       "      <td>407.220271</td>\n",
       "      <td>1159.211075</td>\n",
       "      <td>desktop</td>\n",
       "      <td>0</td>\n",
       "      <td>1048+</td>\n",
       "      <td>1199.425957</td>\n",
       "      <td>4797.703830</td>\n",
       "      <td>1459.237224</td>\n",
       "    </tr>\n",
       "    <tr>\n",
       "      <th>2</th>\n",
       "      <td>3</td>\n",
       "      <td>1860</td>\n",
       "      <td>498.819570</td>\n",
       "      <td>2023-01-01 00:02:00</td>\n",
       "      <td>Dining</td>\n",
       "      <td>San Francisco</td>\n",
       "      <td>265.583605</td>\n",
       "      <td>720.677284</td>\n",
       "      <td>desktop</td>\n",
       "      <td>0</td>\n",
       "      <td>650-1047</td>\n",
       "      <td>565.511158</td>\n",
       "      <td>1131.022316</td>\n",
       "      <td>1717.354769</td>\n",
       "    </tr>\n",
       "    <tr>\n",
       "      <th>3</th>\n",
       "      <td>4</td>\n",
       "      <td>2294</td>\n",
       "      <td>744.199592</td>\n",
       "      <td>2023-01-01 00:03:00</td>\n",
       "      <td>Electronics</td>\n",
       "      <td>Los Angeles</td>\n",
       "      <td>1097.259081</td>\n",
       "      <td>1.000000</td>\n",
       "      <td>mobile</td>\n",
       "      <td>0</td>\n",
       "      <td>0 - 294</td>\n",
       "      <td>726.110747</td>\n",
       "      <td>2178.332241</td>\n",
       "      <td>1405.783572</td>\n",
       "    </tr>\n",
       "    <tr>\n",
       "      <th>4</th>\n",
       "      <td>5</td>\n",
       "      <td>2130</td>\n",
       "      <td>279.181247</td>\n",
       "      <td>2023-01-01 00:04:00</td>\n",
       "      <td>Electronics</td>\n",
       "      <td>Los Angeles</td>\n",
       "      <td>238.389682</td>\n",
       "      <td>1378.958721</td>\n",
       "      <td>mobile</td>\n",
       "      <td>0</td>\n",
       "      <td>1048+</td>\n",
       "      <td>469.563006</td>\n",
       "      <td>939.126011</td>\n",
       "      <td>2110.731873</td>\n",
       "    </tr>\n",
       "  </tbody>\n",
       "</table>\n",
       "</div>"
      ],
      "text/plain": [
       "   Transaction ID  Customer ID  Transaction Amount Transaction Date and Time  \\\n",
       "0               1         4174          659.297095       2023-01-01 00:00:00   \n",
       "1               2         4507          474.046452       2023-01-01 00:01:00   \n",
       "2               3         1860          498.819570       2023-01-01 00:02:00   \n",
       "3               4         2294          744.199592       2023-01-01 00:03:00   \n",
       "4               5         2130          279.181247       2023-01-01 00:04:00   \n",
       "\n",
       "  Merchant Category       Location  Previous Transaction Amount  \\\n",
       "0          Clothing    Los Angeles                   579.323704   \n",
       "1            Dining        Houston                   407.220271   \n",
       "2            Dining  San Francisco                   265.583605   \n",
       "3       Electronics    Los Angeles                  1097.259081   \n",
       "4       Electronics    Los Angeles                   238.389682   \n",
       "\n",
       "   Time Since Last Transaction Device Type  Fraud Time Since Trans Bins  \\\n",
       "0                   481.377516     desktop      0               295-649   \n",
       "1                  1159.211075     desktop      0                 1048+   \n",
       "2                   720.677284     desktop      0              650-1047   \n",
       "3                     1.000000      mobile      0               0 - 294   \n",
       "4                  1378.958721      mobile      0                 1048+   \n",
       "\n",
       "   Avg Trans Amt  Total Spend  Customer Lifespan  \n",
       "0     439.330623  1317.991869        2521.608540  \n",
       "1    1199.425957  4797.703830        1459.237224  \n",
       "2     565.511158  1131.022316        1717.354769  \n",
       "3     726.110747  2178.332241        1405.783572  \n",
       "4     469.563006   939.126011        2110.731873  "
      ]
     },
     "execution_count": 58,
     "metadata": {},
     "output_type": "execute_result"
    }
   ],
   "source": [
    "# Total Spend per Customer\n",
    "\n",
    "df['Total Spend'] = df.groupby('Customer ID')['Transaction Amount'].transform('sum')\n",
    "df.head()"
   ]
  },
  {
   "cell_type": "code",
   "execution_count": 39,
   "metadata": {},
   "outputs": [
    {
     "data": {
      "text/plain": [
       "count                  10000\n",
       "mean     2023-01-04 11:19:30\n",
       "min      2023-01-01 00:00:00\n",
       "25%      2023-01-02 17:39:45\n",
       "50%      2023-01-04 11:19:30\n",
       "75%      2023-01-06 04:59:15\n",
       "max      2023-01-07 22:39:00\n",
       "Name: Transaction Date and Time, dtype: object"
      ]
     },
     "execution_count": 39,
     "metadata": {},
     "output_type": "execute_result"
    }
   ],
   "source": [
    "# Data only covers 7 days (2023-01-01 to 2023-01-07)\n",
    "# I wanted to feature engineer this by month, but because it doesn't have all 12 months, it won't be useful\n",
    "# Not going to use this date, could do by day or hour but doesn't seem useful at this time\n",
    "\n",
    "df['Transaction Date and Time'].describe()"
   ]
  },
  {
   "cell_type": "code",
   "execution_count": 41,
   "metadata": {},
   "outputs": [
    {
     "data": {
      "text/plain": [
       "count    10000.000000\n",
       "mean       677.040726\n",
       "std        432.386769\n",
       "min          1.000000\n",
       "25%        295.523894\n",
       "50%        653.143168\n",
       "75%       1048.479972\n",
       "max       1694.715674\n",
       "Name: Time Since Last Transaction, dtype: float64"
      ]
     },
     "execution_count": 41,
     "metadata": {},
     "output_type": "execute_result"
    }
   ],
   "source": [
    "df['Time Since Last Transaction'].describe()"
   ]
  },
  {
   "cell_type": "code",
   "execution_count": 44,
   "metadata": {},
   "outputs": [
    {
     "data": {
      "text/html": [
       "<div>\n",
       "<style scoped>\n",
       "    .dataframe tbody tr th:only-of-type {\n",
       "        vertical-align: middle;\n",
       "    }\n",
       "\n",
       "    .dataframe tbody tr th {\n",
       "        vertical-align: top;\n",
       "    }\n",
       "\n",
       "    .dataframe thead th {\n",
       "        text-align: right;\n",
       "    }\n",
       "</style>\n",
       "<table border=\"1\" class=\"dataframe\">\n",
       "  <thead>\n",
       "    <tr style=\"text-align: right;\">\n",
       "      <th></th>\n",
       "      <th>Transaction ID</th>\n",
       "      <th>Customer ID</th>\n",
       "      <th>Transaction Amount</th>\n",
       "      <th>Transaction Date and Time</th>\n",
       "      <th>Merchant Category</th>\n",
       "      <th>Location</th>\n",
       "      <th>Previous Transaction Amount</th>\n",
       "      <th>Time Since Last Transaction</th>\n",
       "      <th>Device Type</th>\n",
       "      <th>Fraud</th>\n",
       "      <th>Time Since Trans Bins</th>\n",
       "      <th>Avg Trans Amt</th>\n",
       "      <th>Total Spend</th>\n",
       "      <th>Customer Lifespan</th>\n",
       "    </tr>\n",
       "  </thead>\n",
       "  <tbody>\n",
       "    <tr>\n",
       "      <th>0</th>\n",
       "      <td>1</td>\n",
       "      <td>4174</td>\n",
       "      <td>659.297095</td>\n",
       "      <td>2023-01-01 00:00:00</td>\n",
       "      <td>Clothing</td>\n",
       "      <td>Los Angeles</td>\n",
       "      <td>579.323704</td>\n",
       "      <td>481.377516</td>\n",
       "      <td>desktop</td>\n",
       "      <td>0</td>\n",
       "      <td>295-649</td>\n",
       "      <td>439.330623</td>\n",
       "      <td>1317.991869</td>\n",
       "      <td>2521.608540</td>\n",
       "    </tr>\n",
       "    <tr>\n",
       "      <th>1</th>\n",
       "      <td>2</td>\n",
       "      <td>4507</td>\n",
       "      <td>474.046452</td>\n",
       "      <td>2023-01-01 00:01:00</td>\n",
       "      <td>Dining</td>\n",
       "      <td>Houston</td>\n",
       "      <td>407.220271</td>\n",
       "      <td>1159.211075</td>\n",
       "      <td>desktop</td>\n",
       "      <td>0</td>\n",
       "      <td>1048+</td>\n",
       "      <td>1199.425957</td>\n",
       "      <td>4797.703830</td>\n",
       "      <td>1459.237224</td>\n",
       "    </tr>\n",
       "    <tr>\n",
       "      <th>2</th>\n",
       "      <td>3</td>\n",
       "      <td>1860</td>\n",
       "      <td>498.819570</td>\n",
       "      <td>2023-01-01 00:02:00</td>\n",
       "      <td>Dining</td>\n",
       "      <td>San Francisco</td>\n",
       "      <td>265.583605</td>\n",
       "      <td>720.677284</td>\n",
       "      <td>desktop</td>\n",
       "      <td>0</td>\n",
       "      <td>650-1047</td>\n",
       "      <td>565.511158</td>\n",
       "      <td>1131.022316</td>\n",
       "      <td>1717.354769</td>\n",
       "    </tr>\n",
       "    <tr>\n",
       "      <th>3</th>\n",
       "      <td>4</td>\n",
       "      <td>2294</td>\n",
       "      <td>744.199592</td>\n",
       "      <td>2023-01-01 00:03:00</td>\n",
       "      <td>Electronics</td>\n",
       "      <td>Los Angeles</td>\n",
       "      <td>1097.259081</td>\n",
       "      <td>1.000000</td>\n",
       "      <td>mobile</td>\n",
       "      <td>0</td>\n",
       "      <td>0 - 294</td>\n",
       "      <td>726.110747</td>\n",
       "      <td>2178.332241</td>\n",
       "      <td>1405.783572</td>\n",
       "    </tr>\n",
       "    <tr>\n",
       "      <th>4</th>\n",
       "      <td>5</td>\n",
       "      <td>2130</td>\n",
       "      <td>279.181247</td>\n",
       "      <td>2023-01-01 00:04:00</td>\n",
       "      <td>Electronics</td>\n",
       "      <td>Los Angeles</td>\n",
       "      <td>238.389682</td>\n",
       "      <td>1378.958721</td>\n",
       "      <td>mobile</td>\n",
       "      <td>0</td>\n",
       "      <td>1048+</td>\n",
       "      <td>469.563006</td>\n",
       "      <td>939.126011</td>\n",
       "      <td>2110.731873</td>\n",
       "    </tr>\n",
       "    <tr>\n",
       "      <th>5</th>\n",
       "      <td>6</td>\n",
       "      <td>2095</td>\n",
       "      <td>395.323790</td>\n",
       "      <td>2023-01-01 00:05:00</td>\n",
       "      <td>Dining</td>\n",
       "      <td>New York</td>\n",
       "      <td>421.926105</td>\n",
       "      <td>548.706785</td>\n",
       "      <td>mobile</td>\n",
       "      <td>0</td>\n",
       "      <td>295-649</td>\n",
       "      <td>231.696571</td>\n",
       "      <td>463.393142</td>\n",
       "      <td>953.025898</td>\n",
       "    </tr>\n",
       "    <tr>\n",
       "      <th>6</th>\n",
       "      <td>7</td>\n",
       "      <td>4772</td>\n",
       "      <td>967.649233</td>\n",
       "      <td>2023-01-01 00:06:00</td>\n",
       "      <td>Groceries</td>\n",
       "      <td>Los Angeles</td>\n",
       "      <td>1226.767073</td>\n",
       "      <td>331.319088</td>\n",
       "      <td>desktop</td>\n",
       "      <td>0</td>\n",
       "      <td>295-649</td>\n",
       "      <td>863.249349</td>\n",
       "      <td>1726.498698</td>\n",
       "      <td>694.560037</td>\n",
       "    </tr>\n",
       "    <tr>\n",
       "      <th>7</th>\n",
       "      <td>8</td>\n",
       "      <td>4092</td>\n",
       "      <td>16.558875</td>\n",
       "      <td>2023-01-01 00:07:00</td>\n",
       "      <td>Dining</td>\n",
       "      <td>Chicago</td>\n",
       "      <td>78.163605</td>\n",
       "      <td>662.724041</td>\n",
       "      <td>desktop</td>\n",
       "      <td>0</td>\n",
       "      <td>650-1047</td>\n",
       "      <td>305.449898</td>\n",
       "      <td>610.899795</td>\n",
       "      <td>2054.532785</td>\n",
       "    </tr>\n",
       "    <tr>\n",
       "      <th>8</th>\n",
       "      <td>9</td>\n",
       "      <td>2638</td>\n",
       "      <td>533.075713</td>\n",
       "      <td>2023-01-01 00:08:00</td>\n",
       "      <td>Dining</td>\n",
       "      <td>Los Angeles</td>\n",
       "      <td>553.556682</td>\n",
       "      <td>896.814583</td>\n",
       "      <td>mobile</td>\n",
       "      <td>0</td>\n",
       "      <td>650-1047</td>\n",
       "      <td>462.492542</td>\n",
       "      <td>1849.970167</td>\n",
       "      <td>4116.918905</td>\n",
       "    </tr>\n",
       "    <tr>\n",
       "      <th>9</th>\n",
       "      <td>10</td>\n",
       "      <td>3169</td>\n",
       "      <td>909.749227</td>\n",
       "      <td>2023-01-01 00:09:00</td>\n",
       "      <td>Electronics</td>\n",
       "      <td>Chicago</td>\n",
       "      <td>571.664421</td>\n",
       "      <td>505.032036</td>\n",
       "      <td>mobile</td>\n",
       "      <td>0</td>\n",
       "      <td>295-649</td>\n",
       "      <td>698.318286</td>\n",
       "      <td>4888.228000</td>\n",
       "      <td>3445.048138</td>\n",
       "    </tr>\n",
       "  </tbody>\n",
       "</table>\n",
       "</div>"
      ],
      "text/plain": [
       "   Transaction ID  Customer ID  Transaction Amount Transaction Date and Time  \\\n",
       "0               1         4174          659.297095       2023-01-01 00:00:00   \n",
       "1               2         4507          474.046452       2023-01-01 00:01:00   \n",
       "2               3         1860          498.819570       2023-01-01 00:02:00   \n",
       "3               4         2294          744.199592       2023-01-01 00:03:00   \n",
       "4               5         2130          279.181247       2023-01-01 00:04:00   \n",
       "5               6         2095          395.323790       2023-01-01 00:05:00   \n",
       "6               7         4772          967.649233       2023-01-01 00:06:00   \n",
       "7               8         4092           16.558875       2023-01-01 00:07:00   \n",
       "8               9         2638          533.075713       2023-01-01 00:08:00   \n",
       "9              10         3169          909.749227       2023-01-01 00:09:00   \n",
       "\n",
       "  Merchant Category       Location  Previous Transaction Amount  \\\n",
       "0          Clothing    Los Angeles                   579.323704   \n",
       "1            Dining        Houston                   407.220271   \n",
       "2            Dining  San Francisco                   265.583605   \n",
       "3       Electronics    Los Angeles                  1097.259081   \n",
       "4       Electronics    Los Angeles                   238.389682   \n",
       "5            Dining       New York                   421.926105   \n",
       "6         Groceries    Los Angeles                  1226.767073   \n",
       "7            Dining        Chicago                    78.163605   \n",
       "8            Dining    Los Angeles                   553.556682   \n",
       "9       Electronics        Chicago                   571.664421   \n",
       "\n",
       "   Time Since Last Transaction Device Type  Fraud Time Since Trans Bins  \\\n",
       "0                   481.377516     desktop      0               295-649   \n",
       "1                  1159.211075     desktop      0                 1048+   \n",
       "2                   720.677284     desktop      0              650-1047   \n",
       "3                     1.000000      mobile      0               0 - 294   \n",
       "4                  1378.958721      mobile      0                 1048+   \n",
       "5                   548.706785      mobile      0               295-649   \n",
       "6                   331.319088     desktop      0               295-649   \n",
       "7                   662.724041     desktop      0              650-1047   \n",
       "8                   896.814583      mobile      0              650-1047   \n",
       "9                   505.032036      mobile      0               295-649   \n",
       "\n",
       "   Avg Trans Amt  Total Spend  Customer Lifespan  \n",
       "0     439.330623  1317.991869        2521.608540  \n",
       "1    1199.425957  4797.703830        1459.237224  \n",
       "2     565.511158  1131.022316        1717.354769  \n",
       "3     726.110747  2178.332241        1405.783572  \n",
       "4     469.563006   939.126011        2110.731873  \n",
       "5     231.696571   463.393142         953.025898  \n",
       "6     863.249349  1726.498698         694.560037  \n",
       "7     305.449898   610.899795        2054.532785  \n",
       "8     462.492542  1849.970167        4116.918905  \n",
       "9     698.318286  4888.228000        3445.048138  "
      ]
     },
     "execution_count": 44,
     "metadata": {},
     "output_type": "execute_result"
    }
   ],
   "source": [
    "# Customer Life Span calculated by summing the time from last transaction for each unique customer ID\n",
    "\n",
    "df['Customer Lifespan'] = df.groupby('Customer ID')['Time Since Last Transaction'].transform('sum')\n",
    "df.head(10)"
   ]
  },
  {
   "cell_type": "markdown",
   "metadata": {},
   "source": [
    "# Model Time?!"
   ]
  },
  {
   "cell_type": "code",
   "execution_count": 46,
   "metadata": {},
   "outputs": [
    {
     "data": {
      "text/plain": [
       "Index(['Transaction ID', 'Customer ID', 'Transaction Amount',\n",
       "       'Transaction Date and Time', 'Merchant Category', 'Location',\n",
       "       'Previous Transaction Amount', 'Time Since Last Transaction',\n",
       "       'Device Type', 'Fraud', 'Time Since Trans Bins', 'Avg Trans Amt',\n",
       "       'Total Spend', 'Customer Lifespan'],\n",
       "      dtype='object')"
      ]
     },
     "execution_count": 46,
     "metadata": {},
     "output_type": "execute_result"
    }
   ],
   "source": [
    "df.columns"
   ]
  },
  {
   "cell_type": "code",
   "execution_count": 47,
   "metadata": {},
   "outputs": [],
   "source": [
    "# Model TIME\n",
    "# Lets Do some variables, throw everything we've got, and go from there\n",
    "\n",
    "# Split Data for Model\n",
    "\n",
    "X = df[['Transaction Amount','Merchant Category','Location','Previous Transaction Amount','Time Since Last Transaction','Device Type','Time Since Trans Bins',\n",
    "        'Avg Trans Amt','Total Spend','Customer Lifespan']]\n",
    "y = df['Fraud']\n",
    "\n",
    "numeric_columns = ['Transaction Amount','Previous Transaction Amount','Time Since Last Transaction','Avg Trans Amt','Total Spend','Customer Lifespan']\n",
    "categorical_columns = ['Merchant Category','Location','Device Type','Time Since Trans Bins',]\n",
    "\n",
    "# reserve 30% for testing\n",
    "X_train, X_test, y_train, y_test = train_test_split(X,y, test_size=0.3)\n",
    "\n",
    "# create a pre-processing pipeline which includes the steps of Scaling numeric variables and encoding categoricals\n",
    "preprocessor = ColumnTransformer(\n",
    "    transformers=[\n",
    "        ('num',MinMaxScaler(), numeric_columns),\n",
    "        ('cat',OneHotEncoder(handle_unknown='ignore',sparse_output=False),categorical_columns)\n",
    "    ]\n",
    ")"
   ]
  },
  {
   "cell_type": "markdown",
   "metadata": {},
   "source": [
    "Cross Evalutation - Lets See if any of these can predict on the imbalanced dataset"
   ]
  },
  {
   "cell_type": "code",
   "execution_count": 48,
   "metadata": {},
   "outputs": [
    {
     "name": "stdout",
     "output_type": "stream",
     "text": [
      "Logistic Regression F1 Scores (weighted): 0.910 ± 0.004\n",
      "KNN F1 Scores (weighted): 0.875 ± 0.005\n",
      "Naive Bayes F1 Scores (weighted): 0.864 ± 0.002\n",
      "Decision Tree F1 Scores (weighted): 0.877 ± 0.009\n",
      "Random Forest F1 Scores (weighted): 0.924 ± 0.007\n",
      "SVM F1 Scores (weighted): 0.899 ± 0.004\n"
     ]
    }
   ],
   "source": [
    "# List of models to evaluate\n",
    "models = {\n",
    "    'Logistic Regression': LogisticRegression(max_iter=1000),\n",
    "    'KNN': KNeighborsClassifier(),\n",
    "    'Naive Bayes': GaussianNB(),\n",
    "    'Decision Tree': DecisionTreeClassifier(),\n",
    "    'Random Forest': RandomForestClassifier(),\n",
    "    'SVM': SVC()\n",
    "}\n",
    "\n",
    "# Evaluate each model using cross-validation\n",
    "for name, model in models.items():\n",
    "    pipeline = Pipeline(steps=[\n",
    "        ('preprocessor', preprocessor),\n",
    "        ('classifier', model)\n",
    "    ])\n",
    "    scores = cross_val_score(pipeline, X_train, y_train, scoring='f1_weighted', cv=3,n_jobs=-1)\n",
    "    print(f\"{name} F1 Scores (weighted): {scores.mean():.3f} ± {scores.std():.3f}\")\n"
   ]
  },
  {
   "cell_type": "code",
   "execution_count": 49,
   "metadata": {},
   "outputs": [
    {
     "name": "stdout",
     "output_type": "stream",
     "text": [
      "              precision    recall  f1-score   support\n",
      "\n",
      "           0       0.92      1.00      0.96      2584\n",
      "           1       0.96      0.47      0.63       416\n",
      "\n",
      "    accuracy                           0.92      3000\n",
      "   macro avg       0.94      0.74      0.80      3000\n",
      "weighted avg       0.93      0.92      0.91      3000\n",
      "\n"
     ]
    }
   ],
   "source": [
    "# Define the Logistic Regression model\n",
    "logreg = LogisticRegression(max_iter=1000)\n",
    "\n",
    "# Create the full pipeline\n",
    "pipeline = Pipeline(steps=[\n",
    "    ('preprocessor', preprocessor),\n",
    "    ('classifier', logreg)\n",
    "])\n",
    "\n",
    "# Fit the model to the training data\n",
    "pipeline.fit(X_train, y_train)\n",
    "\n",
    "y_pred = pipeline.predict(X_test)\n",
    "print(classification_report(y_test, y_pred))"
   ]
  },
  {
   "cell_type": "markdown",
   "metadata": {},
   "source": [
    "# As Expected Models are Struggling to Predict the weakly represented class"
   ]
  },
  {
   "cell_type": "code",
   "execution_count": 50,
   "metadata": {},
   "outputs": [
    {
     "data": {
      "image/png": "[encoded data removed]",
      "text/plain": [
       "<Figure size 1000x700 with 2 Axes>"
      ]
     },
     "metadata": {},
     "output_type": "display_data"
    }
   ],
   "source": [
    "# Plot the confusion matrix using seaborn\n",
    "plt.figure(figsize=(10, 7))\n",
    "sns.heatmap(confusion_matrix(y_test, y_pred), annot=True, fmt='d', cmap='Blues')\n",
    "plt.xlabel('Predicted')\n",
    "plt.ylabel('Actual')\n",
    "plt.title('Confusion Matrix')\n",
    "plt.show()"
   ]
  },
  {
   "cell_type": "code",
   "execution_count": 51,
   "metadata": {},
   "outputs": [
    {
     "name": "stdout",
     "output_type": "stream",
     "text": [
      "              precision    recall  f1-score   support\n",
      "\n",
      "           0       0.94      0.99      0.96      2599\n",
      "           1       0.94      0.56      0.70       401\n",
      "\n",
      "    accuracy                           0.94      3000\n",
      "   macro avg       0.94      0.78      0.83      3000\n",
      "weighted avg       0.94      0.94      0.93      3000\n",
      "\n"
     ]
    },
    {
     "data": {
      "image/png": "[encoded data removed]",
      "text/plain": [
       "<Figure size 1000x700 with 2 Axes>"
      ]
     },
     "metadata": {},
     "output_type": "display_data"
    }
   ],
   "source": [
    "# Split data into training and test sets\n",
    "X_train, X_test, y_train, y_test = train_test_split(X, y, test_size=0.3)\n",
    "\n",
    "# Create a pipeline with the preprocessor and a RandomForestClassifier\n",
    "pipeline_rforest_rev = Pipeline(steps=[\n",
    "    ('preprocessor', preprocessor),\n",
    "    ('classifier', RandomForestClassifier(n_estimators=100))\n",
    "])\n",
    "\n",
    "# Train the model\n",
    "pipeline_rforest_rev.fit(X_train, y_train)\n",
    "\n",
    "# Make predictions\n",
    "y_pred = pipeline_rforest_rev.predict(X_test)\n",
    "\n",
    "# Evaluate the model\n",
    "print(classification_report(y_test, y_pred))\n",
    "\n",
    "# Plot the confusion matrix using seaborn\n",
    "plt.figure(figsize=(10, 7))\n",
    "sns.heatmap(confusion_matrix(y_test, y_pred), annot=True, fmt='d', cmap='Blues')\n",
    "plt.xlabel('Predicted')\n",
    "plt.ylabel('Actual')\n",
    "plt.title('Confusion Matrix')\n",
    "plt.show()"
   ]
  },
  {
   "cell_type": "markdown",
   "metadata": {},
   "source": [
    "Random Forest Performing Slightly Better, but its still barely over 50/50 on the important side\n",
    "# Hyper Parameter Tuning Random Forest"
   ]
  },
  {
   "cell_type": "code",
   "execution_count": 52,
   "metadata": {},
   "outputs": [
    {
     "name": "stdout",
     "output_type": "stream",
     "text": [
      "Best Estimator: Pipeline(steps=[('preprocessor',\n",
      "                 ColumnTransformer(transformers=[('num', MinMaxScaler(),\n",
      "                                                  ['Transaction Amount',\n",
      "                                                   'Previous Transaction '\n",
      "                                                   'Amount',\n",
      "                                                   'Time Since Last '\n",
      "                                                   'Transaction',\n",
      "                                                   'Avg Trans Amt',\n",
      "                                                   'Total Spend',\n",
      "                                                   'Customer Lifespan']),\n",
      "                                                 ('cat',\n",
      "                                                  OneHotEncoder(handle_unknown='ignore',\n",
      "                                                                sparse_output=False),\n",
      "                                                  ['Merchant Category',\n",
      "                                                   'Location', 'Device Type',\n",
      "                                                   'Time Since Trans Bins'])])),\n",
      "                ('classifier',\n",
      "                 RandomForestClassifier(max_depth=20, n_estimators=200))])\n",
      "Best Parameters: {'classifier__max_depth': 20, 'classifier__n_estimators': 200}\n",
      "Best Score: 0.9272660351275495\n"
     ]
    }
   ],
   "source": [
    "# GridSearch Run (Swap Models & Params)\n",
    "\n",
    "def run_grid_search(pipeline, param_grid, X_train, y_train):\n",
    "    \"\"\"\n",
    "    Run GridSearchCV on the provided pipeline and parameter grid.\n",
    "\n",
    "    Parameters:\n",
    "    - pipeline: sklearn.pipeline.Pipeline object with preprocessor and model\n",
    "    - param_grid: dict, parameter grid for GridSearchCV\n",
    "    - X_train: Training features\n",
    "    - y_train: Training labels\n",
    "\n",
    "    Returns:\n",
    "    - best_estimator: Best model from GridSearchCV\n",
    "    - best_params: Best parameters from GridSearchCV\n",
    "    - best_score: Best score achieved by the best model\n",
    "    \"\"\"\n",
    "    grid_search = GridSearchCV(pipeline, param_grid, cv=5, scoring='f1_weighted', n_jobs=-1)\n",
    "    grid_search.fit(X_train, y_train)\n",
    "    \n",
    "    best_estimator = grid_search.best_estimator_\n",
    "    best_params = grid_search.best_params_\n",
    "    best_score = grid_search.best_score_\n",
    "    \n",
    "    return best_estimator, best_params, best_score\n",
    "\n",
    "# Assuming 'preprocessor' is defined and 'X_train', 'y_train' are your training data\n",
    "\n",
    "# Replace with your selected model and corresponding parameter grid\n",
    "selected_model = RandomForestClassifier() # Put model you want to use here\n",
    "param_grid = {\n",
    "    'classifier__n_estimators': [100, 200, 300], # Change Params using above listed arrays\n",
    "    'classifier__max_depth': [None, 10, 20, 30]\n",
    "}\n",
    "\n",
    "# Create a pipeline with the selected model\n",
    "pipeline = Pipeline(steps=[\n",
    "    ('preprocessor', preprocessor),\n",
    "    ('classifier', selected_model)\n",
    "])\n",
    "\n",
    "# Run grid search\n",
    "best_estimator, best_params, best_score = run_grid_search(pipeline, param_grid, X_train, y_train)\n",
    "\n",
    "print(\"Best Estimator:\", best_estimator) # Output gives Model with Parameters assigned\n",
    "print(\"Best Parameters:\", best_params)\n",
    "print(\"Best Score:\", best_score)"
   ]
  },
  {
   "cell_type": "code",
   "execution_count": 60,
   "metadata": {},
   "outputs": [
    {
     "name": "stdout",
     "output_type": "stream",
     "text": [
      "              precision    recall  f1-score   support\n",
      "\n",
      "           0       0.94      0.99      0.96      4307\n",
      "           1       0.93      0.59      0.72       693\n",
      "\n",
      "    accuracy                           0.94      5000\n",
      "   macro avg       0.93      0.79      0.84      5000\n",
      "weighted avg       0.94      0.94      0.93      5000\n",
      "\n"
     ]
    },
    {
     "data": {
      "image/png": "[encoded data removed]",
      "text/plain": [
       "<Figure size 1000x700 with 2 Axes>"
      ]
     },
     "metadata": {},
     "output_type": "display_data"
    }
   ],
   "source": [
    "# Try Random Forest With New Parameters\n",
    "\n",
    "# Split data into training and test sets\n",
    "X_train, X_test, y_train, y_test = train_test_split(X, y, test_size=0.5)\n",
    "\n",
    "# Create a pipeline with the preprocessor and a RandomForestClassifier\n",
    "pipeline_rforest_rev = Pipeline(steps=[\n",
    "    ('preprocessor', preprocessor),\n",
    "    ('classifier', RandomForestClassifier(max_depth=20,n_estimators=200))\n",
    "])\n",
    "\n",
    "# Train the model\n",
    "pipeline_rforest_rev.fit(X_train, y_train)\n",
    "\n",
    "# Make predictions\n",
    "y_pred = pipeline_rforest_rev.predict(X_test)\n",
    "\n",
    "# Evaluate the model\n",
    "print(classification_report(y_test, y_pred))\n",
    "\n",
    "# Plot the confusion matrix using seaborn\n",
    "plt.figure(figsize=(10, 7))\n",
    "sns.heatmap(confusion_matrix(y_test, y_pred), annot=True, fmt='d', cmap='Blues')\n",
    "plt.xlabel('Predicted')\n",
    "plt.ylabel('Actual')\n",
    "plt.title('Confusion Matrix')\n",
    "plt.show()"
   ]
  }
 ],
 "metadata": {
  "kernelspec": {
   "display_name": "Python 3",
   "language": "python",
   "name": "python3"
  },
  "language_info": {
   "codemirror_mode": {
    "name": "ipython",
    "version": 3
   },
   "file_extension": ".py",
   "mimetype": "text/x-python",
   "name": "python",
   "nbconvert_exporter": "python",
   "pygments_lexer": "ipython3",
   "version": "3.11.9"
  }
 },
 "nbformat": 4,
 "nbformat_minor": 2
}
