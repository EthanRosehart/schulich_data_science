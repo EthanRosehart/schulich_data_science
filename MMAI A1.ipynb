{
 "cells": [
  {
   "cell_type": "code",
   "execution_count": 42,
   "metadata": {},
   "outputs": [],
   "source": [
    "# Import required libraries\n",
    "\n",
    "import numpy as np\n",
    "import pandas as pd\n",
    "import seaborn as sns\n",
    "import matplotlib.pyplot as plt"
   ]
  },
  {
   "cell_type": "code",
   "execution_count": 43,
   "metadata": {},
   "outputs": [],
   "source": [
    "# Load the excel sheet into a database in pandas from my local computer\n",
    "\n",
    "df = pd.read_excel(\"C:\\\\Users\\\\etjdr\\\\OneDrive\\\\Desktop\\\\MMAI 5000 Wed 230-5  AI Fun\\\\AI-Human-PewData.xlsx\")"
   ]
  },
  {
   "cell_type": "code",
   "execution_count": 44,
   "metadata": {},
   "outputs": [
    {
     "name": "stdout",
     "output_type": "stream",
     "text": [
      "   Unnamed: 0    QKEY INTERVIEW_START_W99   INTERVIEW_END_W99 DEVICE_TYPE_W99  \\\n",
      "0           0  100260 2021-11-03 14:25:27 2021-11-03 14:45:34       Laptop/PC   \n",
      "1           1  100314 2021-11-04 12:35:35 2021-11-04 12:55:29      Smartphone   \n",
      "2           2  100363 2021-11-03 20:23:43 2021-11-03 20:36:24      Smartphone   \n",
      "3           3  100598 2021-11-02 13:01:05 2021-11-04 12:37:42       Laptop/PC   \n",
      "4           4  100637 2021-11-02 12:32:58 2021-11-02 12:46:23       Laptop/PC   \n",
      "\n",
      "  LANG_W99 FORM_W99    XTABLET_W99        TECH1_W99  \\\n",
      "0  English   Form 2  Non-tablet HH              NaN   \n",
      "1  English   Form 1  Non-tablet HH  Mostly positive   \n",
      "2  English   Form 1  Non-tablet HH  Mostly positive   \n",
      "3  English   Form 2  Non-tablet HH              NaN   \n",
      "4  English   Form 2  Non-tablet HH              NaN   \n",
      "\n",
      "                               SC1_W99  ...       F_PARTYLN_FINAL  \\\n",
      "0                      Mostly positive  ...                   NaN   \n",
      "1                                  NaN  ...                   NaN   \n",
      "2                                  NaN  ...                   NaN   \n",
      "3                      Mostly positive  ...                   NaN   \n",
      "4  Equal positive and negative effects  ...  The Republican Party   \n",
      "\n",
      "  F_PARTYSUM_FINAL            F_PARTYSUMIDEO_FINAL  \\\n",
      "0     Rep/Lean Rep           Conservative Rep/Lean   \n",
      "1     Rep/Lean Rep       Moderate/Liberal Rep/Lean   \n",
      "2     Dem/Lean Dem  Moderate/Conservative Dem/Lean   \n",
      "3     Rep/Lean Rep           Conservative Rep/Lean   \n",
      "4     Rep/Lean Rep           Conservative Rep/Lean   \n",
      "\n",
      "                     F_INC_SDT1  \\\n",
      "0  $50,000 to less than $60,000   \n",
      "1  $40,000 to less than $50,000   \n",
      "2              $100,000 or more   \n",
      "3              $100,000 or more   \n",
      "4  $30,000 to less than $40,000   \n",
      "\n",
      "                                               F_REG             F_IDEO  \\\n",
      "0  You are ABSOLUTELY CERTAIN that you are regist...  Very conservative   \n",
      "1  You are ABSOLUTELY CERTAIN that you are regist...            Liberal   \n",
      "2  You are ABSOLUTELY CERTAIN that you are regist...           Moderate   \n",
      "3  You are ABSOLUTELY CERTAIN that you are regist...       Conservative   \n",
      "4  You are ABSOLUTELY CERTAIN that you are regist...  Very conservative   \n",
      "\n",
      "             F_INTFREQ F_VOLSUM    F_INC_TIER2 WEIGHT_W99  \n",
      "0  Several times a day       No  Middle income   0.206396  \n",
      "1  Several times a day      Yes  Middle income   0.315090  \n",
      "2  Several times a day       No   Upper income   0.829579  \n",
      "3  Several times a day      Yes   Upper income   0.337527  \n",
      "4           Less often       No   Lower income   1.210606  \n",
      "\n",
      "[5 rows x 215 columns]\n"
     ]
    }
   ],
   "source": [
    "# Check the head of the data to verify using correct data\n",
    "\n",
    "print(df.head())"
   ]
  },
  {
   "cell_type": "code",
   "execution_count": 45,
   "metadata": {},
   "outputs": [
    {
     "name": "stdout",
     "output_type": "stream",
     "text": [
      "        F_PARTYLN_FINAL F_PARTYSUM_FINAL            F_PARTYSUMIDEO_FINAL  \\\n",
      "0                   NaN     Rep/Lean Rep           Conservative Rep/Lean   \n",
      "1                   NaN     Rep/Lean Rep       Moderate/Liberal Rep/Lean   \n",
      "2                   NaN     Dem/Lean Dem  Moderate/Conservative Dem/Lean   \n",
      "3                   NaN     Rep/Lean Rep           Conservative Rep/Lean   \n",
      "4  The Republican Party     Rep/Lean Rep           Conservative Rep/Lean   \n",
      "\n",
      "   political_leaning_index  \n",
      "0                       -2  \n",
      "1                       -1  \n",
      "2                        1  \n",
      "3                       -2  \n",
      "4                       -2  \n"
     ]
    }
   ],
   "source": [
    "# Function to create new column in the dataframe ' political_leaning_index ' and map responses to generate the index\n",
    "# Inputs: F_PARTYLN_FINAL, F_PARTYSUM_FINAL, F_PARTYSUMIDEO_FINAL\n",
    "# Outputs: political_leaning_index\n",
    "# Output explained: -2 Republic and Conservative, -1 Liberal and Republican, 0 - neutral or refused, 1 Conservative and Democratic, 2 Liberal and Democratic\n",
    "# Interpretation: -2 = very right wing leaning, -1 = right wing leaning, 0 - neutral/refuse, 1 = left wing leaning, 2 = very left wing leaning\n",
    "\n",
    "def calculate_political_leaning(row):\n",
    "    # Updated mapping based on actual data\n",
    "    mapping = {\n",
    "        'Conservative Rep/Lean': -2,\n",
    "        'Moderate/Liberal Rep/Lean': -1,\n",
    "        'Moderate/Conservative Dem/Lean': 1,\n",
    "        'Liberal Dem/Lean': 2,\n",
    "        'Refused either F_IDEO or F_PARTYSUM_FINAL': 0,  # Assuming neutral for refused\n",
    "        'DK/Refused/No lean': 0  # Neutral for unknown or no lean\n",
    "    }\n",
    "    leaning = row['F_PARTYSUMIDEO_FINAL']  # Using the ideologically indicative column\n",
    "    return mapping.get(leaning, 0)  # Default to 0 if not found in the mapping\n",
    "\n",
    "# Apply the function to create the new column\n",
    "df['political_leaning_index'] = df.apply(calculate_political_leaning, axis=1)\n",
    "\n",
    "# Verify the results by printing the relevant columns\n",
    "print(df[['F_PARTYLN_FINAL', 'F_PARTYSUM_FINAL', 'F_PARTYSUMIDEO_FINAL', 'political_leaning_index']].head())\n",
    "\n",
    "# Save the updated DataFrame\n",
    "df.to_excel('C:\\\\Users\\\\etjdr\\\\OneDrive\\\\Desktop\\\\MMAI 5000 Wed 230-5  AI Fun\\\\Modified_AI-Human-PewData.xlsx', index=False)\n"
   ]
  },
  {
   "cell_type": "code",
   "execution_count": 46,
   "metadata": {},
   "outputs": [
    {
     "name": "stdout",
     "output_type": "stream",
     "text": [
      "Index(['Unnamed: 0', 'QKEY', 'INTERVIEW_START_W99', 'INTERVIEW_END_W99',\n",
      "       'DEVICE_TYPE_W99', 'LANG_W99', 'FORM_W99', 'XTABLET_W99', 'TECH1_W99',\n",
      "       'SC1_W99',\n",
      "       ...\n",
      "       'F_PARTYSUM_FINAL', 'F_PARTYSUMIDEO_FINAL', 'F_INC_SDT1', 'F_REG',\n",
      "       'F_IDEO', 'F_INTFREQ', 'F_VOLSUM', 'F_INC_TIER2', 'WEIGHT_W99',\n",
      "       'political_leaning_index'],\n",
      "      dtype='object', length=141)\n"
     ]
    }
   ],
   "source": [
    "# Create a function that deletes all columns between SMALG1_W99 and DCARS13_d_W99 - All categories of questions we are not using for analysis\n",
    "\n",
    "start_col = 'SMALG1_W99'\n",
    "end_col = 'DCARS13_d_W99'\n",
    "\n",
    "# Calculate the column indices for slicing\n",
    "start_index = df.columns.get_loc(start_col)\n",
    "end_index = df.columns.get_loc(end_col) + 1  # Include the end column in the slicing\n",
    "\n",
    "# Drop the specified range of columns\n",
    "df.drop(df.columns[start_index:end_index], axis=1, inplace=True)\n",
    "\n",
    "# Verify by printing the DataFrame columns to confirm removal\n",
    "print(df.columns)\n",
    "\n",
    "# Optionally, save the modified DataFrame back to an Excel file\n",
    "df.to_excel('C:\\\\Users\\\\etjdr\\\\OneDrive\\\\Desktop\\\\MMAI 5000 Wed 230-5  AI Fun\\\\Modified_AI-Human-PewData.xlsx', index=False)"
   ]
  }
 ],
 "metadata": {
  "kernelspec": {
   "display_name": "Python 3",
   "language": "python",
   "name": "python3"
  },
  "language_info": {
   "codemirror_mode": {
    "name": "ipython",
    "version": 3
   },
   "file_extension": ".py",
   "mimetype": "text/x-python",
   "name": "python",
   "nbconvert_exporter": "python",
   "pygments_lexer": "ipython3",
   "version": "3.11.9"
  }
 },
 "nbformat": 4,
 "nbformat_minor": 2
}
