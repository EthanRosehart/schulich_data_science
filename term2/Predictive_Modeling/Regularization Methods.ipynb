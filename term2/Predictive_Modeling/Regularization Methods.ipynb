{
 "cells": [
  {
   "cell_type": "code",
   "execution_count": 1,
   "id": "8289f5e1",
   "metadata": {},
   "outputs": [],
   "source": [
    "import numpy as np\n",
    "import pandas as pd\n",
    "import matplotlib.pyplot as plt\n",
    "import statsmodels.api as sm\n",
    "from sklearn import linear_model as lm"
   ]
  },
  {
   "cell_type": "code",
   "execution_count": 2,
   "id": "ac25ff6d",
   "metadata": {},
   "outputs": [],
   "source": [
    "x_1 = np.random.uniform(10,40,100)\n",
    "x_2 = np.random.uniform(-50,20,100)\n",
    "x_3 = np.random.uniform(20,60,100)\n",
    "x_4 = np.random.uniform(10,40,100)\n",
    "x_5 = np.random.uniform(-50,20,100)\n",
    "x_6 = np.random.uniform(20,60,100)\n",
    "epsilon = np.random.normal(0,10,100)"
   ]
  },
  {
   "cell_type": "code",
   "execution_count": 3,
   "id": "42b4353c",
   "metadata": {},
   "outputs": [],
   "source": [
    "y=-30+1.3*x_1+1.6*x_2+1.1*x_3+0.7*x_4-2.1*x_5-0.9*x_6+epsilon"
   ]
  },
  {
   "cell_type": "code",
   "execution_count": 4,
   "id": "f4f0d12d",
   "metadata": {},
   "outputs": [],
   "source": [
    "X_ols=pd.DataFrame()\n",
    "X_ols['Constant']=pd.Series(np.ones(100))\n",
    "X_ols['X1'] = pd.Series(x_1)\n",
    "X_ols['X2'] = pd.Series(x_2)\n",
    "X_ols['X3'] = pd.Series(x_3)\n",
    "X_ols['X4'] = pd.Series(x_4)\n",
    "X_ols['X5'] = pd.Series(x_5)\n",
    "X_ols['X6'] = pd.Series(x_6)"
   ]
  },
  {
   "cell_type": "code",
   "execution_count": 5,
   "id": "0614462a",
   "metadata": {},
   "outputs": [
    {
     "data": {
      "text/html": [
       "<table class=\"simpletable\">\n",
       "<caption>OLS Regression Results</caption>\n",
       "<tr>\n",
       "  <th>Dep. Variable:</th>            <td>y</td>        <th>  R-squared:         </th> <td>   0.978</td>\n",
       "</tr>\n",
       "<tr>\n",
       "  <th>Model:</th>                   <td>OLS</td>       <th>  Adj. R-squared:    </th> <td>   0.977</td>\n",
       "</tr>\n",
       "<tr>\n",
       "  <th>Method:</th>             <td>Least Squares</td>  <th>  F-statistic:       </th> <td>   704.8</td>\n",
       "</tr>\n",
       "<tr>\n",
       "  <th>Date:</th>             <td>Mon, 30 Sep 2024</td> <th>  Prob (F-statistic):</th> <td>3.31e-75</td>\n",
       "</tr>\n",
       "<tr>\n",
       "  <th>Time:</th>                 <td>12:44:05</td>     <th>  Log-Likelihood:    </th> <td> -356.27</td>\n",
       "</tr>\n",
       "<tr>\n",
       "  <th>No. Observations:</th>      <td>   100</td>      <th>  AIC:               </th> <td>   726.5</td>\n",
       "</tr>\n",
       "<tr>\n",
       "  <th>Df Residuals:</th>          <td>    93</td>      <th>  BIC:               </th> <td>   744.8</td>\n",
       "</tr>\n",
       "<tr>\n",
       "  <th>Df Model:</th>              <td>     6</td>      <th>                     </th>     <td> </td>   \n",
       "</tr>\n",
       "<tr>\n",
       "  <th>Covariance Type:</th>      <td>nonrobust</td>    <th>                     </th>     <td> </td>   \n",
       "</tr>\n",
       "</table>\n",
       "<table class=\"simpletable\">\n",
       "<tr>\n",
       "      <td></td>        <th>coef</th>     <th>std err</th>      <th>t</th>      <th>P>|t|</th>  <th>[0.025</th>    <th>0.975]</th>  \n",
       "</tr>\n",
       "<tr>\n",
       "  <th>Constant</th> <td>  -19.4298</td> <td>    6.745</td> <td>   -2.881</td> <td> 0.005</td> <td>  -32.824</td> <td>   -6.036</td>\n",
       "</tr>\n",
       "<tr>\n",
       "  <th>X1</th>       <td>    1.1116</td> <td>    0.109</td> <td>   10.220</td> <td> 0.000</td> <td>    0.896</td> <td>    1.328</td>\n",
       "</tr>\n",
       "<tr>\n",
       "  <th>X2</th>       <td>    1.5529</td> <td>    0.045</td> <td>   34.515</td> <td> 0.000</td> <td>    1.464</td> <td>    1.642</td>\n",
       "</tr>\n",
       "<tr>\n",
       "  <th>X3</th>       <td>    1.0891</td> <td>    0.076</td> <td>   14.270</td> <td> 0.000</td> <td>    0.938</td> <td>    1.241</td>\n",
       "</tr>\n",
       "<tr>\n",
       "  <th>X4</th>       <td>    0.6399</td> <td>    0.108</td> <td>    5.922</td> <td> 0.000</td> <td>    0.425</td> <td>    0.854</td>\n",
       "</tr>\n",
       "<tr>\n",
       "  <th>X5</th>       <td>   -2.0851</td> <td>    0.044</td> <td>  -47.439</td> <td> 0.000</td> <td>   -2.172</td> <td>   -1.998</td>\n",
       "</tr>\n",
       "<tr>\n",
       "  <th>X6</th>       <td>   -1.0034</td> <td>    0.085</td> <td>  -11.811</td> <td> 0.000</td> <td>   -1.172</td> <td>   -0.835</td>\n",
       "</tr>\n",
       "</table>\n",
       "<table class=\"simpletable\">\n",
       "<tr>\n",
       "  <th>Omnibus:</th>       <td> 1.207</td> <th>  Durbin-Watson:     </th> <td>   1.987</td>\n",
       "</tr>\n",
       "<tr>\n",
       "  <th>Prob(Omnibus):</th> <td> 0.547</td> <th>  Jarque-Bera (JB):  </th> <td>   1.091</td>\n",
       "</tr>\n",
       "<tr>\n",
       "  <th>Skew:</th>          <td>-0.070</td> <th>  Prob(JB):          </th> <td>   0.580</td>\n",
       "</tr>\n",
       "<tr>\n",
       "  <th>Kurtosis:</th>      <td> 2.508</td> <th>  Cond. No.          </th> <td>    564.</td>\n",
       "</tr>\n",
       "</table><br/><br/>Notes:<br/>[1] Standard Errors assume that the covariance matrix of the errors is correctly specified."
      ],
      "text/latex": [
       "\\begin{center}\n",
       "\\begin{tabular}{lclc}\n",
       "\\toprule\n",
       "\\textbf{Dep. Variable:}    &        y         & \\textbf{  R-squared:         } &     0.978   \\\\\n",
       "\\textbf{Model:}            &       OLS        & \\textbf{  Adj. R-squared:    } &     0.977   \\\\\n",
       "\\textbf{Method:}           &  Least Squares   & \\textbf{  F-statistic:       } &     704.8   \\\\\n",
       "\\textbf{Date:}             & Mon, 30 Sep 2024 & \\textbf{  Prob (F-statistic):} &  3.31e-75   \\\\\n",
       "\\textbf{Time:}             &     12:44:05     & \\textbf{  Log-Likelihood:    } &   -356.27   \\\\\n",
       "\\textbf{No. Observations:} &         100      & \\textbf{  AIC:               } &     726.5   \\\\\n",
       "\\textbf{Df Residuals:}     &          93      & \\textbf{  BIC:               } &     744.8   \\\\\n",
       "\\textbf{Df Model:}         &           6      & \\textbf{                     } &             \\\\\n",
       "\\textbf{Covariance Type:}  &    nonrobust     & \\textbf{                     } &             \\\\\n",
       "\\bottomrule\n",
       "\\end{tabular}\n",
       "\\begin{tabular}{lcccccc}\n",
       "                  & \\textbf{coef} & \\textbf{std err} & \\textbf{t} & \\textbf{P$> |$t$|$} & \\textbf{[0.025} & \\textbf{0.975]}  \\\\\n",
       "\\midrule\n",
       "\\textbf{Constant} &     -19.4298  &        6.745     &    -2.881  &         0.005        &      -32.824    &       -6.036     \\\\\n",
       "\\textbf{X1}       &       1.1116  &        0.109     &    10.220  &         0.000        &        0.896    &        1.328     \\\\\n",
       "\\textbf{X2}       &       1.5529  &        0.045     &    34.515  &         0.000        &        1.464    &        1.642     \\\\\n",
       "\\textbf{X3}       &       1.0891  &        0.076     &    14.270  &         0.000        &        0.938    &        1.241     \\\\\n",
       "\\textbf{X4}       &       0.6399  &        0.108     &     5.922  &         0.000        &        0.425    &        0.854     \\\\\n",
       "\\textbf{X5}       &      -2.0851  &        0.044     &   -47.439  &         0.000        &       -2.172    &       -1.998     \\\\\n",
       "\\textbf{X6}       &      -1.0034  &        0.085     &   -11.811  &         0.000        &       -1.172    &       -0.835     \\\\\n",
       "\\bottomrule\n",
       "\\end{tabular}\n",
       "\\begin{tabular}{lclc}\n",
       "\\textbf{Omnibus:}       &  1.207 & \\textbf{  Durbin-Watson:     } &    1.987  \\\\\n",
       "\\textbf{Prob(Omnibus):} &  0.547 & \\textbf{  Jarque-Bera (JB):  } &    1.091  \\\\\n",
       "\\textbf{Skew:}          & -0.070 & \\textbf{  Prob(JB):          } &    0.580  \\\\\n",
       "\\textbf{Kurtosis:}      &  2.508 & \\textbf{  Cond. No.          } &     564.  \\\\\n",
       "\\bottomrule\n",
       "\\end{tabular}\n",
       "%\\caption{OLS Regression Results}\n",
       "\\end{center}\n",
       "\n",
       "Notes: \\newline\n",
       " [1] Standard Errors assume that the covariance matrix of the errors is correctly specified."
      ],
      "text/plain": [
       "<class 'statsmodels.iolib.summary.Summary'>\n",
       "\"\"\"\n",
       "                            OLS Regression Results                            \n",
       "==============================================================================\n",
       "Dep. Variable:                      y   R-squared:                       0.978\n",
       "Model:                            OLS   Adj. R-squared:                  0.977\n",
       "Method:                 Least Squares   F-statistic:                     704.8\n",
       "Date:                Mon, 30 Sep 2024   Prob (F-statistic):           3.31e-75\n",
       "Time:                        12:44:05   Log-Likelihood:                -356.27\n",
       "No. Observations:                 100   AIC:                             726.5\n",
       "Df Residuals:                      93   BIC:                             744.8\n",
       "Df Model:                           6                                         \n",
       "Covariance Type:            nonrobust                                         \n",
       "==============================================================================\n",
       "                 coef    std err          t      P>|t|      [0.025      0.975]\n",
       "------------------------------------------------------------------------------\n",
       "Constant     -19.4298      6.745     -2.881      0.005     -32.824      -6.036\n",
       "X1             1.1116      0.109     10.220      0.000       0.896       1.328\n",
       "X2             1.5529      0.045     34.515      0.000       1.464       1.642\n",
       "X3             1.0891      0.076     14.270      0.000       0.938       1.241\n",
       "X4             0.6399      0.108      5.922      0.000       0.425       0.854\n",
       "X5            -2.0851      0.044    -47.439      0.000      -2.172      -1.998\n",
       "X6            -1.0034      0.085    -11.811      0.000      -1.172      -0.835\n",
       "==============================================================================\n",
       "Omnibus:                        1.207   Durbin-Watson:                   1.987\n",
       "Prob(Omnibus):                  0.547   Jarque-Bera (JB):                1.091\n",
       "Skew:                          -0.070   Prob(JB):                        0.580\n",
       "Kurtosis:                       2.508   Cond. No.                         564.\n",
       "==============================================================================\n",
       "\n",
       "Notes:\n",
       "[1] Standard Errors assume that the covariance matrix of the errors is correctly specified.\n",
       "\"\"\""
      ]
     },
     "execution_count": 5,
     "metadata": {},
     "output_type": "execute_result"
    }
   ],
   "source": [
    "model_reg = sm.OLS(y,X_ols).fit()\n",
    "model_reg.summary()"
   ]
  },
  {
   "cell_type": "code",
   "execution_count": 6,
   "id": "7a996da0",
   "metadata": {},
   "outputs": [],
   "source": [
    "# Now we add some unrelated coefficients\n",
    "x_7 = np.random.uniform(10,40,100)\n",
    "x_8 = np.random.uniform(-50,20,100)\n",
    "x_9 = np.random.uniform(20,60,100)\n",
    "x_10 = np.random.uniform(10,40,100)\n",
    "x_11 = np.random.uniform(-50,20,100)\n",
    "x_12 = np.random.uniform(20,60,100)"
   ]
  },
  {
   "cell_type": "code",
   "execution_count": 7,
   "id": "6c40d68e",
   "metadata": {},
   "outputs": [],
   "source": [
    "X_ext = pd.DataFrame()\n",
    "X_ext['Constant']=pd.Series(np.ones(100))\n",
    "X_ext['X1'] = pd.Series(x_1)\n",
    "X_ext['X2'] = pd.Series(x_2)\n",
    "X_ext['X3'] = pd.Series(x_3)\n",
    "X_ext['X4'] = pd.Series(x_4)\n",
    "X_ext['X5'] = pd.Series(x_5)\n",
    "X_ext['X6'] = pd.Series(x_6)\n",
    "X_ext['X7'] = pd.Series(x_7)\n",
    "X_ext['X8'] = pd.Series(x_8)\n",
    "X_ext['X9'] = pd.Series(x_9)\n",
    "X_ext['X10'] = pd.Series(x_10)\n",
    "X_ext['X11'] = pd.Series(x_11)\n",
    "X_ext['X12'] = pd.Series(x_12)"
   ]
  },
  {
   "cell_type": "code",
   "execution_count": 8,
   "id": "d87033bc",
   "metadata": {},
   "outputs": [
    {
     "data": {
      "text/html": [
       "<table class=\"simpletable\">\n",
       "<caption>OLS Regression Results</caption>\n",
       "<tr>\n",
       "  <th>Dep. Variable:</th>            <td>y</td>        <th>  R-squared:         </th> <td>   0.979</td>\n",
       "</tr>\n",
       "<tr>\n",
       "  <th>Model:</th>                   <td>OLS</td>       <th>  Adj. R-squared:    </th> <td>   0.977</td>\n",
       "</tr>\n",
       "<tr>\n",
       "  <th>Method:</th>             <td>Least Squares</td>  <th>  F-statistic:       </th> <td>   344.5</td>\n",
       "</tr>\n",
       "<tr>\n",
       "  <th>Date:</th>             <td>Mon, 30 Sep 2024</td> <th>  Prob (F-statistic):</th> <td>7.56e-68</td>\n",
       "</tr>\n",
       "<tr>\n",
       "  <th>Time:</th>                 <td>12:46:13</td>     <th>  Log-Likelihood:    </th> <td> -354.13</td>\n",
       "</tr>\n",
       "<tr>\n",
       "  <th>No. Observations:</th>      <td>   100</td>      <th>  AIC:               </th> <td>   734.3</td>\n",
       "</tr>\n",
       "<tr>\n",
       "  <th>Df Residuals:</th>          <td>    87</td>      <th>  BIC:               </th> <td>   768.1</td>\n",
       "</tr>\n",
       "<tr>\n",
       "  <th>Df Model:</th>              <td>    12</td>      <th>                     </th>     <td> </td>   \n",
       "</tr>\n",
       "<tr>\n",
       "  <th>Covariance Type:</th>      <td>nonrobust</td>    <th>                     </th>     <td> </td>   \n",
       "</tr>\n",
       "</table>\n",
       "<table class=\"simpletable\">\n",
       "<tr>\n",
       "      <td></td>        <th>coef</th>     <th>std err</th>      <th>t</th>      <th>P>|t|</th>  <th>[0.025</th>    <th>0.975]</th>  \n",
       "</tr>\n",
       "<tr>\n",
       "  <th>Constant</th> <td>  -17.5479</td> <td>    8.875</td> <td>   -1.977</td> <td> 0.051</td> <td>  -35.188</td> <td>    0.092</td>\n",
       "</tr>\n",
       "<tr>\n",
       "  <th>X1</th>       <td>    1.0894</td> <td>    0.113</td> <td>    9.604</td> <td> 0.000</td> <td>    0.864</td> <td>    1.315</td>\n",
       "</tr>\n",
       "<tr>\n",
       "  <th>X2</th>       <td>    1.5573</td> <td>    0.046</td> <td>   33.829</td> <td> 0.000</td> <td>    1.466</td> <td>    1.649</td>\n",
       "</tr>\n",
       "<tr>\n",
       "  <th>X3</th>       <td>    1.0878</td> <td>    0.081</td> <td>   13.469</td> <td> 0.000</td> <td>    0.927</td> <td>    1.248</td>\n",
       "</tr>\n",
       "<tr>\n",
       "  <th>X4</th>       <td>    0.6321</td> <td>    0.114</td> <td>    5.540</td> <td> 0.000</td> <td>    0.405</td> <td>    0.859</td>\n",
       "</tr>\n",
       "<tr>\n",
       "  <th>X5</th>       <td>   -2.0956</td> <td>    0.046</td> <td>  -45.542</td> <td> 0.000</td> <td>   -2.187</td> <td>   -2.004</td>\n",
       "</tr>\n",
       "<tr>\n",
       "  <th>X6</th>       <td>   -1.0162</td> <td>    0.088</td> <td>  -11.498</td> <td> 0.000</td> <td>   -1.192</td> <td>   -0.841</td>\n",
       "</tr>\n",
       "<tr>\n",
       "  <th>X7</th>       <td>   -0.0011</td> <td>    0.105</td> <td>   -0.011</td> <td> 0.991</td> <td>   -0.210</td> <td>    0.207</td>\n",
       "</tr>\n",
       "<tr>\n",
       "  <th>X8</th>       <td>    0.0690</td> <td>    0.044</td> <td>    1.561</td> <td> 0.122</td> <td>   -0.019</td> <td>    0.157</td>\n",
       "</tr>\n",
       "<tr>\n",
       "  <th>X9</th>       <td>   -0.0026</td> <td>    0.085</td> <td>   -0.030</td> <td> 0.976</td> <td>   -0.172</td> <td>    0.166</td>\n",
       "</tr>\n",
       "<tr>\n",
       "  <th>X10</th>      <td>    0.0697</td> <td>    0.108</td> <td>    0.644</td> <td> 0.521</td> <td>   -0.145</td> <td>    0.285</td>\n",
       "</tr>\n",
       "<tr>\n",
       "  <th>X11</th>      <td>   -0.0245</td> <td>    0.044</td> <td>   -0.561</td> <td> 0.576</td> <td>   -0.111</td> <td>    0.062</td>\n",
       "</tr>\n",
       "<tr>\n",
       "  <th>X12</th>      <td>   -0.0353</td> <td>    0.084</td> <td>   -0.419</td> <td> 0.676</td> <td>   -0.203</td> <td>    0.132</td>\n",
       "</tr>\n",
       "</table>\n",
       "<table class=\"simpletable\">\n",
       "<tr>\n",
       "  <th>Omnibus:</th>       <td> 1.612</td> <th>  Durbin-Watson:     </th> <td>   2.027</td>\n",
       "</tr>\n",
       "<tr>\n",
       "  <th>Prob(Omnibus):</th> <td> 0.447</td> <th>  Jarque-Bera (JB):  </th> <td>   1.262</td>\n",
       "</tr>\n",
       "<tr>\n",
       "  <th>Skew:</th>          <td> 0.018</td> <th>  Prob(JB):          </th> <td>   0.532</td>\n",
       "</tr>\n",
       "<tr>\n",
       "  <th>Kurtosis:</th>      <td> 2.451</td> <th>  Cond. No.          </th> <td>1.02e+03</td>\n",
       "</tr>\n",
       "</table><br/><br/>Notes:<br/>[1] Standard Errors assume that the covariance matrix of the errors is correctly specified.<br/>[2] The condition number is large, 1.02e+03. This might indicate that there are<br/>strong multicollinearity or other numerical problems."
      ],
      "text/latex": [
       "\\begin{center}\n",
       "\\begin{tabular}{lclc}\n",
       "\\toprule\n",
       "\\textbf{Dep. Variable:}    &        y         & \\textbf{  R-squared:         } &     0.979   \\\\\n",
       "\\textbf{Model:}            &       OLS        & \\textbf{  Adj. R-squared:    } &     0.977   \\\\\n",
       "\\textbf{Method:}           &  Least Squares   & \\textbf{  F-statistic:       } &     344.5   \\\\\n",
       "\\textbf{Date:}             & Mon, 30 Sep 2024 & \\textbf{  Prob (F-statistic):} &  7.56e-68   \\\\\n",
       "\\textbf{Time:}             &     12:46:13     & \\textbf{  Log-Likelihood:    } &   -354.13   \\\\\n",
       "\\textbf{No. Observations:} &         100      & \\textbf{  AIC:               } &     734.3   \\\\\n",
       "\\textbf{Df Residuals:}     &          87      & \\textbf{  BIC:               } &     768.1   \\\\\n",
       "\\textbf{Df Model:}         &          12      & \\textbf{                     } &             \\\\\n",
       "\\textbf{Covariance Type:}  &    nonrobust     & \\textbf{                     } &             \\\\\n",
       "\\bottomrule\n",
       "\\end{tabular}\n",
       "\\begin{tabular}{lcccccc}\n",
       "                  & \\textbf{coef} & \\textbf{std err} & \\textbf{t} & \\textbf{P$> |$t$|$} & \\textbf{[0.025} & \\textbf{0.975]}  \\\\\n",
       "\\midrule\n",
       "\\textbf{Constant} &     -17.5479  &        8.875     &    -1.977  &         0.051        &      -35.188    &        0.092     \\\\\n",
       "\\textbf{X1}       &       1.0894  &        0.113     &     9.604  &         0.000        &        0.864    &        1.315     \\\\\n",
       "\\textbf{X2}       &       1.5573  &        0.046     &    33.829  &         0.000        &        1.466    &        1.649     \\\\\n",
       "\\textbf{X3}       &       1.0878  &        0.081     &    13.469  &         0.000        &        0.927    &        1.248     \\\\\n",
       "\\textbf{X4}       &       0.6321  &        0.114     &     5.540  &         0.000        &        0.405    &        0.859     \\\\\n",
       "\\textbf{X5}       &      -2.0956  &        0.046     &   -45.542  &         0.000        &       -2.187    &       -2.004     \\\\\n",
       "\\textbf{X6}       &      -1.0162  &        0.088     &   -11.498  &         0.000        &       -1.192    &       -0.841     \\\\\n",
       "\\textbf{X7}       &      -0.0011  &        0.105     &    -0.011  &         0.991        &       -0.210    &        0.207     \\\\\n",
       "\\textbf{X8}       &       0.0690  &        0.044     &     1.561  &         0.122        &       -0.019    &        0.157     \\\\\n",
       "\\textbf{X9}       &      -0.0026  &        0.085     &    -0.030  &         0.976        &       -0.172    &        0.166     \\\\\n",
       "\\textbf{X10}      &       0.0697  &        0.108     &     0.644  &         0.521        &       -0.145    &        0.285     \\\\\n",
       "\\textbf{X11}      &      -0.0245  &        0.044     &    -0.561  &         0.576        &       -0.111    &        0.062     \\\\\n",
       "\\textbf{X12}      &      -0.0353  &        0.084     &    -0.419  &         0.676        &       -0.203    &        0.132     \\\\\n",
       "\\bottomrule\n",
       "\\end{tabular}\n",
       "\\begin{tabular}{lclc}\n",
       "\\textbf{Omnibus:}       &  1.612 & \\textbf{  Durbin-Watson:     } &    2.027  \\\\\n",
       "\\textbf{Prob(Omnibus):} &  0.447 & \\textbf{  Jarque-Bera (JB):  } &    1.262  \\\\\n",
       "\\textbf{Skew:}          &  0.018 & \\textbf{  Prob(JB):          } &    0.532  \\\\\n",
       "\\textbf{Kurtosis:}      &  2.451 & \\textbf{  Cond. No.          } & 1.02e+03  \\\\\n",
       "\\bottomrule\n",
       "\\end{tabular}\n",
       "%\\caption{OLS Regression Results}\n",
       "\\end{center}\n",
       "\n",
       "Notes: \\newline\n",
       " [1] Standard Errors assume that the covariance matrix of the errors is correctly specified. \\newline\n",
       " [2] The condition number is large, 1.02e+03. This might indicate that there are \\newline\n",
       " strong multicollinearity or other numerical problems."
      ],
      "text/plain": [
       "<class 'statsmodels.iolib.summary.Summary'>\n",
       "\"\"\"\n",
       "                            OLS Regression Results                            \n",
       "==============================================================================\n",
       "Dep. Variable:                      y   R-squared:                       0.979\n",
       "Model:                            OLS   Adj. R-squared:                  0.977\n",
       "Method:                 Least Squares   F-statistic:                     344.5\n",
       "Date:                Mon, 30 Sep 2024   Prob (F-statistic):           7.56e-68\n",
       "Time:                        12:46:13   Log-Likelihood:                -354.13\n",
       "No. Observations:                 100   AIC:                             734.3\n",
       "Df Residuals:                      87   BIC:                             768.1\n",
       "Df Model:                          12                                         \n",
       "Covariance Type:            nonrobust                                         \n",
       "==============================================================================\n",
       "                 coef    std err          t      P>|t|      [0.025      0.975]\n",
       "------------------------------------------------------------------------------\n",
       "Constant     -17.5479      8.875     -1.977      0.051     -35.188       0.092\n",
       "X1             1.0894      0.113      9.604      0.000       0.864       1.315\n",
       "X2             1.5573      0.046     33.829      0.000       1.466       1.649\n",
       "X3             1.0878      0.081     13.469      0.000       0.927       1.248\n",
       "X4             0.6321      0.114      5.540      0.000       0.405       0.859\n",
       "X5            -2.0956      0.046    -45.542      0.000      -2.187      -2.004\n",
       "X6            -1.0162      0.088    -11.498      0.000      -1.192      -0.841\n",
       "X7            -0.0011      0.105     -0.011      0.991      -0.210       0.207\n",
       "X8             0.0690      0.044      1.561      0.122      -0.019       0.157\n",
       "X9            -0.0026      0.085     -0.030      0.976      -0.172       0.166\n",
       "X10            0.0697      0.108      0.644      0.521      -0.145       0.285\n",
       "X11           -0.0245      0.044     -0.561      0.576      -0.111       0.062\n",
       "X12           -0.0353      0.084     -0.419      0.676      -0.203       0.132\n",
       "==============================================================================\n",
       "Omnibus:                        1.612   Durbin-Watson:                   2.027\n",
       "Prob(Omnibus):                  0.447   Jarque-Bera (JB):                1.262\n",
       "Skew:                           0.018   Prob(JB):                        0.532\n",
       "Kurtosis:                       2.451   Cond. No.                     1.02e+03\n",
       "==============================================================================\n",
       "\n",
       "Notes:\n",
       "[1] Standard Errors assume that the covariance matrix of the errors is correctly specified.\n",
       "[2] The condition number is large, 1.02e+03. This might indicate that there are\n",
       "strong multicollinearity or other numerical problems.\n",
       "\"\"\""
      ]
     },
     "execution_count": 8,
     "metadata": {},
     "output_type": "execute_result"
    }
   ],
   "source": [
    "model_reg = sm.OLS(y,X_ext).fit()\n",
    "model_reg.summary()"
   ]
  },
  {
   "cell_type": "code",
   "execution_count": 9,
   "id": "4bf6e43b",
   "metadata": {},
   "outputs": [
    {
     "data": {
      "text/plain": [
       "array([ 1.07870292,  1.55540884,  1.08042733,  0.61448547, -2.09160485,\n",
       "       -1.00906495,  0.        ,  0.06816391, -0.        ,  0.05489861,\n",
       "       -0.02077121, -0.02652208])"
      ]
     },
     "execution_count": 9,
     "metadata": {},
     "output_type": "execute_result"
    }
   ],
   "source": [
    "# When we input the matrix, we don't need to add the column of ones because \\\n",
    "# Lasso automatically takes it into account\n",
    "\n",
    "X_ext = X_ext.drop(columns=['Constant'])\n",
    "model_lasso = lm.Lasso(alpha=1).fit(X_ext,y)\n",
    "model_lasso.coef_"
   ]
  },
  {
   "cell_type": "code",
   "execution_count": 15,
   "id": "d9778204",
   "metadata": {},
   "outputs": [
    {
     "data": {
      "text/plain": [
       "array([ 0.        ,  1.31109017,  0.45878641,  0.        , -1.85738252,\n",
       "       -0.54822706,  0.        ,  0.        ,  0.        ,  0.        ,\n",
       "        0.        ,  0.        ])"
      ]
     },
     "execution_count": 15,
     "metadata": {},
     "output_type": "execute_result"
    }
   ],
   "source": [
    "model_lasso = lm.Lasso(alpha=100).fit(X_ext,y)\n",
    "model_lasso.coef_"
   ]
  },
  {
   "cell_type": "code",
   "execution_count": 16,
   "id": "7b10d4f6",
   "metadata": {},
   "outputs": [
    {
     "data": {
      "text/plain": [
       "array([ 1.08805102e+00,  1.55695821e+00,  1.08702547e+00,  6.30910755e-01,\n",
       "       -2.09501288e+00, -1.01580875e+00, -1.07025952e-03,  6.90205281e-02,\n",
       "       -2.26722601e-03,  6.95047189e-02, -2.43468474e-02, -3.51514500e-02])"
      ]
     },
     "execution_count": 16,
     "metadata": {},
     "output_type": "execute_result"
    }
   ],
   "source": [
    "# We now apply Ridge Regression to our data\n",
    "\n",
    "model_ridge = lm.Ridge(alpha=10).fit(X_ext,y)\n",
    "model_ridge.coef_"
   ]
  },
  {
   "cell_type": "code",
   "execution_count": 19,
   "id": "16de3321",
   "metadata": {},
   "outputs": [
    {
     "data": {
      "text/plain": [
       "array([ 0.5196876 ,  1.24196791,  0.62457542,  0.20993741, -1.67511097,\n",
       "       -0.71183182,  0.01149689,  0.06175776,  0.10580474, -0.0185427 ,\n",
       "        0.03599376,  0.0221109 ])"
      ]
     },
     "execution_count": 19,
     "metadata": {},
     "output_type": "execute_result"
    }
   ],
   "source": [
    "model_ridge = lm.Ridge(alpha=10000).fit(X_ext,y)\n",
    "model_ridge.coef_"
   ]
  },
  {
   "cell_type": "code",
   "execution_count": null,
   "id": "b0628168",
   "metadata": {},
   "outputs": [],
   "source": []
  }
 ],
 "metadata": {
  "kernelspec": {
   "display_name": "Python 3 (ipykernel)",
   "language": "python",
   "name": "python3"
  },
  "language_info": {
   "codemirror_mode": {
    "name": "ipython",
    "version": 3
   },
   "file_extension": ".py",
   "mimetype": "text/x-python",
   "name": "python",
   "nbconvert_exporter": "python",
   "pygments_lexer": "ipython3",
   "version": "3.11.9"
  }
 },
 "nbformat": 4,
 "nbformat_minor": 5
}
